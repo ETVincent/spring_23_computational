{
 "cells": [
  {
   "cell_type": "markdown",
   "id": "ba5cf423",
   "metadata": {},
   "source": [
    "# Equation of State Class\n",
    "\n",
    "Initialize an EOS Object to use multiple times.\n",
    "You can specify an equation of state and if the name is regocnized, the EOS will already have all of it's properties built in.  If not, you can specify the properties."
   ]
  },
  {
   "cell_type": "code",
   "execution_count": null,
   "id": "243fae03",
   "metadata": {},
   "outputs": [],
   "source": [
    "import numpy as np\n",
    "import matplotlib.pyplot as plt\n",
    "from scipy.special import gamma\n",
    "import time\n",
    "import math\n",
    "import matplotlib as mp\n",
    "import scipy as sp\n",
    "import pylab as py"
   ]
  },
  {
   "cell_type": "code",
   "execution_count": 12,
   "id": "5496d459",
   "metadata": {},
   "outputs": [],
   "source": [
    "rho_s = 1665.3  #  Central density (density at r = 0)\n",
    "hc = 197.327           # Conversion factor in MeV fm\n",
    "G = hc * 6.67259e-45   # Gravitational constant\n",
    "Ms = 1.1157467e60      # Mass of the sun in kg\n",
    "mn = 938.926           # Mass of neutron in MeV c^-2\n",
    "\n",
    "def rho_NS(p): \n",
    "    rho_s = 1665.3\n",
    "    \"\"\" density from pressure NS. \"\"\"\n",
    "    n = (p*rho_s/363.44)**(1./2.54)\n",
    "    return (236. * n**2.54 + n *mn)/rho_s \n",
    "def dp_dr_NS(r,m,p, Classical = False): \n",
    "    \"\"\" pressure dependence on radius NS. \"\"\"\n",
    "    if Classical:                              # classical model\n",
    "        y = -m*rho_NS(p)/(r**2 + 1e-20)\n",
    "    else:                                      # relativistic model\n",
    "        rh = rho_NS(p)                            \n",
    "        y = -(p+rh)*(p*r**3 + m)/(r**2 - 2*m*r + 1e-20)\n",
    "    return y\n",
    "def dm_dr_NS(r,m,p):\n",
    "    \"\"\" Mass dependence on radius (dm/dr).\"\"\"\n",
    "    return rho_NS(p)*r**2\n",
    "\n",
    "def standard_eos_pressure(C,k,n):\n",
    "    try:\n",
    "        return k * C[0]**(1+1/n)\n",
    "    except:\n",
    "        return k * C**(1+1/n) # covers case where rho is entered as a single variable."
   ]
  },
  {
   "cell_type": "code",
   "execution_count": 14,
   "id": "b0a51e8d",
   "metadata": {},
   "outputs": [],
   "source": [
    "class EOS: \n",
    "    def __init__(self, name = 'polytropic', P= None, dp_dr= None, notes = \"None\", constants = {}, h = 0.1,k = 0.1,n = 1,nu = 1,gamma_ = 1,A = None):\n",
    "        \"\"\" \n",
    "        Initialize an EOS Object to use multiple times.\n",
    "        If the name is regocnized, the EOS will already have all of it's properties built in.\n",
    "        \"\"\"\n",
    "        self.name = name.lower()\n",
    "        rho_s = 1665.3\n",
    "        self.rho_s = 1665.3 #  Central density (density at r = 0)\n",
    "        self.M0 = (4*3.14159265*(G**3)*rho_s)**(-0.5)\n",
    "        self.R0 =  G*self.M0\n",
    "        self.rho = lambda x : rho_NS(x)\n",
    "        self.dp_dr = lambda r,m,p, flag: dp_dr_NS(r,m,p, flag)\n",
    "        self.dm_dr = lambda r, m, p: dm_dr_NS(r,m,p)\n",
    "        self.constants = {\"h\":(h, \"smoothing length (h)\"),\"k\": (k,\"equation of state constant (k)\"),\"n\" :(n,'polytropic index (n)'), 'rho_s': (rho_s, \"Central density\"), 'nu' : (nu, \"Viscosity\"),\"gamma\":(gamma_, \"Constant ratio of specific heats\"),\"A\":(A,\"function of the points specific entropy. (Rasio&Sharpio 1992)\")}\n",
    "        self.lmbda = lambda M,R : 2*k*(1+n)*np.pi**(-3/(2*n)) * (M*gamma(5/2+n)/R**3/gamma(1+n))**(1/n) / R**2  #is external force constant, ~ 2.01\n",
    "        ## ++++++++++++++++++++++++++ OLD EOS ++++++++++++++++++++++++++++ ##\n",
    "        if self.name == 'standard':\n",
    "            self.notes = 'Old EOS. P(rho).'\n",
    "            self.P = lambda C : standard_eos_pressure(C,k,n)\n",
    "        # =========================== Adiabatic EOS ============================= #\n",
    "        elif self.name == 'adiabatic':\n",
    "            self.notes = 'Adiabatic EOS for the gas. Used in Rasio & Sharpio,1991. P(rho,v).'\n",
    "            try: \n",
    "                self.P = lambda C : C[0]*C[1]*C[2] # Pressure from rho and velocity\n",
    "            except:\n",
    "                raise EvaluationError(str(C)+ \"Error. \" + self.name + \" EOS takes 3 variables: C = [rho,gamma,v]\")\n",
    "        # =========================== Polytope EOS ============================= #\n",
    "        elif self.name == 'polytropic':\n",
    "            self.notes = 'Polytropic EOS for the gas. Used in Rasio & Sharpio,1992.'\n",
    "            if A == None:\n",
    "                raise NotImplementedError(\"No initial A specified.\")\n",
    "            try: \n",
    "                self.P = lambda C : C[2]*C[0]**C[1] # Pressure from rho and velocity\n",
    "            except:\n",
    "                raise EvaluationError(str(C)+ \"Error. \"+ self.name + \" EOS takes 3 variables: C = [rho,gamma,A]\")\n",
    "        else:\n",
    "            raise NotImplementedError(\"You are trying to use an unkown Equation of State\")\n",
    "            \n",
    "    def __str__(self):\n",
    "        return \"EOS Object. Type: \" + self.name + \"\\nNotes: \" + self.notes + \"\\n-------\\n\"+ str(self.constants) +  \"\\n\\n For more information, see the imported EOS file.\"\n",
    "    \n",
    "    def P_eos(self, rho): \n",
    "        \"\"\" Takes in rho and returns pressure from EOS. \"\"\"\n",
    "        func = self.P\n",
    "        return func(rho)"
   ]
  }
 ],
 "metadata": {
  "kernelspec": {
   "display_name": "Python 3 (ipykernel)",
   "language": "python",
   "name": "python3"
  },
  "language_info": {
   "codemirror_mode": {
    "name": "ipython",
    "version": 3
   },
   "file_extension": ".py",
   "mimetype": "text/x-python",
   "name": "python",
   "nbconvert_exporter": "python",
   "pygments_lexer": "ipython3",
   "version": "3.9.12"
  }
 },
 "nbformat": 4,
 "nbformat_minor": 5
}
