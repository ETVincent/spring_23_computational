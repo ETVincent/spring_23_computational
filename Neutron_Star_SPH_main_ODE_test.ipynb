{
 "cells": [
  {
   "cell_type": "code",
   "execution_count": 1,
   "id": "2137d115",
   "metadata": {},
   "outputs": [
    {
     "name": "stderr",
     "output_type": "stream",
     "text": [
      "No artists with labels found to put in legend.  Note that artists whose label start with an underscore are ignored when legend() is called with no argument.\n"
     ]
    },
    {
     "data": {
      "image/png": "[encoded data removed]",
      "text/plain": [
       "<Figure size 432x288 with 1 Axes>"
      ]
     },
     "metadata": {},
     "output_type": "display_data"
    }
   ],
   "source": [
    "import numpy as np\n",
    "import matplotlib.pyplot as plt\n",
    "from scipy.special import gamma\n",
    "import time\n",
    "import math\n",
    "import matplotlib as mp\n",
    "import scipy as sp\n",
    "import pylab as py\n",
    "\n",
    "from ipynb.fs.full.Neutron_Star_SPH_sph import W, gradW, getPairwiseSeparations, getDensity\n",
    "from ipynb.fs.full.Neutron_Star_SPH_eos import EOS, initial_n, rho_NS\n",
    "from ipynb.fs.full.Neutron_Star_SPH_NS import NS, EulerSolver, getPressure,getAcc, plot\n",
    "from ipynb.fs.full.NS_dynamics import grav_force, leapfrogintegrate\n"
   ]
  },
  {
   "cell_type": "code",
   "execution_count": null,
   "id": "2e34439f",
   "metadata": {},
   "outputs": [],
   "source": [
    "def get_r(pos1, pos2):\n",
    "    \"\"\" Given two points in 3 dimensions, returns the distance between them \n",
    "    and the unit vector pointing between them in x,y,z.\n",
    "    \"\"\"\n",
    "    if len(pos1)==3 and len(pos2)==3:\n",
    "        d = [pos1[0]-pos2[0], pos1[1]-pos2[1], pos1[2]-pos2[2]]\n",
    "        dist = np.sqrt(d[0]**2+d[1]**2+d[2]**2) # distance between \n",
    "        direc = np.array([d[0] / dist, d[1] / dist, d[2] / dist])\n",
    "    else:\n",
    "        print(\"points are not in 3 dimensions\")\n",
    "        dist = 0\n",
    "        direc = np.array(0,0,0)\n",
    "    return dist, direc"
   ]
  },
  {
   "cell_type": "markdown",
   "id": "9951a5e0",
   "metadata": {},
   "source": [
    "# Plotting and positioning the stars"
   ]
  },
  {
   "cell_type": "code",
   "execution_count": null,
   "id": "3a5d938f",
   "metadata": {},
   "outputs": [],
   "source": [
    "# Initialization\n",
    "\n",
    "myEOS = EOS('standard') # create an equation of state object\n",
    "myNS = NS(\"my Neutron star 1\", myEOS,0.5,0.5) # create a star\n",
    "myNS2 = NS(\"my Neutron star 2\", myEOS,2,1) # double the mass and radius of the first star\n",
    "\n",
    "# Mass of each star\n",
    "m1 = myNS.get_mass() *10**3\n",
    "m2 = myNS2.get_mass() *10**3\n",
    "\n",
    "# Initial positions and velocities of the center of mass of each star\n",
    "pos_obj1 = np.array([0,0,0])\n",
    "pos_obj2 = np.array([1, 5, 0])\n",
    "v_obj1 = [0,0,0]\n",
    "v_obj2 = [0,0,0]\n",
    "\n",
    "# Update the star's center of masses\n",
    "myNS.update_motion(pos_obj1)\n",
    "myNS2.update_motion(pos_obj2)\n",
    "\n",
    "# Plot the stars' initial positions\n",
    "#plot([myNS, myNS2])"
   ]
  },
  {
   "cell_type": "markdown",
   "id": "1c7933b3",
   "metadata": {},
   "source": [
    "# 1-D Point Particles Dynamics"
   ]
  },
  {
   "cell_type": "code",
   "execution_count": null,
   "id": "457b4094",
   "metadata": {},
   "outputs": [],
   "source": [
    "times = np.arange(0.01, 20, 0.1)\n",
    "\n",
    "plot_limits = 40\n",
    "\n",
    "# initialize empty position and velocity arrays for storage\n",
    "vel_arr1 = np.zeros((len(times), 3))\n",
    "vel_arr2 = np.zeros((len(times), 3))\n",
    "pos_arr1 = np.zeros((len(times), 3))\n",
    "pos_arr2 = np.zeros((len(times), 3))\n",
    "\n",
    "# initialize the initial positions of the stars in the position and velocity arrays\n",
    "pos_arr1[0] = pos_obj1\n",
    "pos_arr2[0] = pos_obj2\n",
    "vel_arr1[0] = v_obj1\n",
    "vel_arr2[0] = v_obj2\n",
    "\n",
    "# make the figure\n",
    "fig, ax = plt.subplots()\n",
    "ax.set_xlim([-plot_limits,plot_limits]) # set plot limits\n",
    "ax.set_ylim([-plot_limits,plot_limits])\n",
    "# plot initial position\n",
    "plt.scatter(pos_arr1[0][0], pos_arr1[index][1], c='blue', label='obj1')\n",
    "plt.scatter(pos_arr2[0][0], pos_arr2[index][1], c='red',  label='obj2')\n",
    "\n",
    "#fig2 = plt.figure(figsize=(4,5), dpi = 300)\n",
    "#grid = plt.GridSpec(3, 1, wspace=0.0, hspace=0.3)\n",
    "#ax2 = plt.subplot(grid[0:2,0])\n",
    "\n",
    "for index in range(len(times)-1):\n",
    "    t = times[index] # get the time from times\n",
    "    \n",
    "    # get gravitational force between objects at this time\n",
    "    dist, unitvec = get_r(pos_arr1[index], pos_arr2[index])\n",
    "    f = grav_force(m1, m2, dist, unitvec)\n",
    "    \n",
    "    # calculate the positions and velocities at the next timestep \n",
    "    # and store them in the position and velocity arrays\n",
    "    vel_arr1[index+1] = vel_arr1[index] + t*f/m1\n",
    "    vel_arr2[index+1] = vel_arr2[index] - t*f/m2\n",
    "    pos_arr1[index+1] = (0.5*f/m1*t**2) + vel_arr1[index]*t + pos_arr1[index]\n",
    "    pos_arr2[index+1] = (-0.5*f/m2*t**2) + vel_arr2[index]*t + pos_arr2[index]\n",
    "    \n",
    "    # add new position of each particle to the plot\n",
    "    plt.scatter(pos_arr1[index+1][0], pos_arr1[index+1][1], c='blue')\n",
    "    plt.scatter(pos_arr2[index+1][0], pos_arr2[index+1][1], c='red')\n",
    "    #time.sleep(3)\n",
    "\n",
    "plt.legend()\n",
    "plt.show()\n",
    "\n",
    "\n",
    "plt.plot(pos_arr1)\n",
    "plt.plot(pos_arr2)"
   ]
  },
  {
   "cell_type": "markdown",
   "id": "14fb0f7c",
   "metadata": {},
   "source": [
    "# Update SPH Neutron Star Motion"
   ]
  },
  {
   "cell_type": "code",
   "execution_count": null,
   "id": "9e617e55",
   "metadata": {},
   "outputs": [],
   "source": [
    "for index in range(len(pos_arr1)):\n",
    "    myNS.update_motion([pos_arr1[index][0], pos_arr1[index][1], pos_arr1[index][2]])\n",
    "    myNS2.update_motion([pos_arr2[index][0], pos_arr2[index][1], pos_arr2[index][2]])\n",
    "    both = [myNS, myNS2]\n",
    "    plot(both, 10**7, 10**7)"
   ]
  },
  {
   "cell_type": "markdown",
   "id": "6f5641cf",
   "metadata": {},
   "source": [
    "# Leapfrog Method"
   ]
  },
  {
   "cell_type": "code",
   "execution_count": null,
   "id": "d723f0ed",
   "metadata": {},
   "outputs": [],
   "source": [
    "N = 10000\n",
    "dt = 0.1\n",
    "x1,x2,y1,y2,z1,z2,vx1,vx2,vy1,vy2,vz1,vz2 = leapfrogintegrate(r10, r20, v10, v20)\n",
    "fig = plt.figure()\n",
    "ax = plt.axes(projection='3d')\n",
    "ax.plot(x1, y1, z1)\n",
    "ax.plot(x2, y2, z2)"
   ]
  }
 ],
 "metadata": {
  "kernelspec": {
   "display_name": "Python 3 (ipykernel)",
   "language": "python",
   "name": "python3"
  },
  "language_info": {
   "codemirror_mode": {
    "name": "ipython",
    "version": 3
   },
   "file_extension": ".py",
   "mimetype": "text/x-python",
   "name": "python",
   "nbconvert_exporter": "python",
   "pygments_lexer": "ipython3",
   "version": "3.9.12"
  }
 },
 "nbformat": 4,
 "nbformat_minor": 5
}
