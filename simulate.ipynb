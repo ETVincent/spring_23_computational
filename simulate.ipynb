{
 "cells": [
  {
   "cell_type": "markdown",
   "id": "175923a0",
   "metadata": {},
   "source": [
    "# Imports"
   ]
  },
  {
   "cell_type": "code",
   "execution_count": 6,
   "id": "4150b4b4",
   "metadata": {},
   "outputs": [],
   "source": [
    "import numpy as np\n",
    "import matplotlib.pyplot as plt\n",
    "from scipy.special import gamma\n",
    "import time\n",
    "import math\n",
    "import matplotlib as mp\n",
    "from mpl_toolkits.mplot3d import Axes3D\n",
    "import matplotlib.animation\n",
    "import pandas as pd\n",
    "import os\n",
    "\n",
    "from ipynb.fs.full.Neutron_Star_SPH_sph import *;\n",
    "from ipynb.fs.full.Neutron_Star_SPH_eos import *;\n",
    "from ipynb.fs.full.Neutron_Star_SPH_NS import NS,get_file_info;"
   ]
  },
  {
   "cell_type": "markdown",
   "id": "b16e37d8",
   "metadata": {},
   "source": [
    "# __Simulate NS__\n",
    "Simulates the motion of the points for a single timestep, dt using the lagrangian formulation and eos.\n",
    "\n",
    "#### Inputs: \n",
    "- eos_tag\n",
    "- dt\n",
    "- tEnd\n",
    "- m\n",
    "- r\n",
    "- points_\n",
    "- h_\n",
    "- nu_\n",
    "- lt\n",
    "- kt\n",
    "- date\n",
    "- trial\n",
    "\n",
    "\n",
    "- notes\n",
    "- specs\n",
    "- folder_name\n",
    "- eta_\n",
    "- cl"
   ]
  },
  {
   "cell_type": "code",
   "execution_count": 7,
   "id": "4a87c02e",
   "metadata": {},
   "outputs": [],
   "source": [
    "def simulate_NS(eos_tag,dt,tEnd,m,r,points_,nu_,lt,kt,date,trial,notes=\"\",specs = \"\",folder_name = \"Noname\",eta_=1,cl=1,g_test_=6.65e-20):\n",
    "    \"\"\" \n",
    "    # Simulate Motion of the points WRT THE STAR'S COM USING LAGRANGIAN\n",
    "    \"\"\"\n",
    "    eos = EOS(eos_tag) #========= INITIALIZE Star and EOS\n",
    "    NS_ = NS(\"mystar\", eos,mass = m,radius = r,num_points = points_,nu=nu_,lagrange_tag=lt,kernel_type=kt,eta=eta_,clmbda=cl,g_test=g_test_) # INITIALIZE NS\n",
    "    \n",
    "    star1_com = [0,0,0] #========= Star COM Motion\n",
    "    Nsteps = int(tEnd/dt)\n",
    "    star1_list = [star1_com for i in range(int(Nsteps))] # This is a placeholder value and should come from the above block\n",
    "    star1_pos = NS_.getPosition() # get position of stars currently\n",
    "    a = np.asarray(star1_pos) # start off array of points with just the initial star locations.\n",
    "    \n",
    "    for t in range(int(Nsteps)): # for every timestep in the simulation\n",
    "        pos1 = NS_.update(dt) # Update the star using the given timestep\n",
    "        a = np.concatenate((a,pos1)) # Add SPH point positions for this timestep to the outputed data array\n",
    "    \n",
    "    # ===================== Animation dataframe ======================================= # \n",
    "    points_per_timestep = NS_.num_points # We need to assign the first set of points, (num_points1 + num_points2) points to the same timestep in the movie\n",
    "    points_count = len(a) # Total number of points in the entire simulation\n",
    "    t = np.array([np.ones(points_per_timestep)*i for i in range(int(points_count/points_per_timestep))]).flatten() # an array counting from 0 to 19. Each number repeats 100 times.\n",
    "    df = pd.DataFrame({\"time\": t ,\"x\" : a[:,0], \"y\" : a[:,1], \"z\" : a[:,2]}) \n",
    "    print(\"\\nSucessfully made plotting dataframe: \\n\")\n",
    "    # ===================== ANIMATION ================================================= # \n",
    "    def update_graph(num):\n",
    "        data=df[df['time']==num]\n",
    "        graph._offsets3d = (data.x, data.y, data.z)\n",
    "        title.set_text('NS Test, time={}'.format(num)) \n",
    "    fig = plt.figure()\n",
    "    ax = fig.add_subplot(111, projection='3d')\n",
    "    title = ax.set_title('NS Test')\n",
    "    data=df[df['time']==0]\n",
    "    graph = ax.scatter(data.x, data.y, data.z)\n",
    "    ani = matplotlib.animation.FuncAnimation(fig, update_graph, int(Nsteps), interval=10, blit=False)\n",
    "    print(\"Creating file location...\")\n",
    "    path_to_file =  \"test_results/\" + folder_name + \"/\"#+ date + \"/\" + folder_name +trial # ======= SAVE ANIMATION RESULTS\n",
    "    file_info = get_file_info(date, NS_, eos, dt, tEnd, notes) \n",
    "    try: \n",
    "        os.mkdir(path_to_file) # Make a new filepath to store the results.\n",
    "    except:\n",
    "        pass\n",
    "    with open(path_to_file + \"/\" + 'info' +\"test_\" +specs + trial + '.txt', 'w') as f:\n",
    "        f.write(file_info)\n",
    "    plt.show() \n",
    "    print(\"Saving animation...\")\n",
    "    ani.save(path_to_file + \"/\"+\"test_\" + specs + trial + \".mp4\") # Save animation.\n",
    "    print(\"DONE.\")\n",
    "    return ani\n",
    "    # ================================================================================== # "
   ]
  },
  {
   "cell_type": "markdown",
   "id": "53ca1a45",
   "metadata": {},
   "source": [
    "_______________________________________________________________\n",
    "# Parametric Testng (below)"
   ]
  },
  {
   "cell_type": "markdown",
   "id": "78aab178",
   "metadata": {},
   "source": [
    " ### MULTIPLE PARAMETERS (AUTOMATIC) ### \n",
    " \n",
    " ###### This will automate testing various parameters so you can just look at the output results.\n",
    "\n"
   ]
  },
  {
   "cell_type": "code",
   "execution_count": 5,
   "id": "2165b226",
   "metadata": {},
   "outputs": [],
   "source": [
    "eos_tag = \"standard\"\n",
    "dt = 10 # seconds\n",
    "tEnd = 6000 # seconds\n",
    "\n",
    "M = [3] # SMs\n",
    "R =[10] # km\n",
    "Points_ = [50] # sph points\n",
    "Nu_ = [4] # artificial viscosity\n",
    "lt = \"vanilla\" # Lagrangian formulation tag\n",
    "kt = \"wendland_2\" # Kernel type\n",
    "\n",
    "for m in M:\n",
    "    for r in R:\n",
    "        for points_ in Points_:\n",
    "            for nu_ in Nu_:\n",
    "                break\n",
    "                # Animation File Specifications \n",
    "                date = \"Apr22\"\n",
    "                trial = \"0\"\n",
    "                notes = \"Morning of Apr 22. Testing various parameters with automated output. This is the initial test.\"\n",
    "                spec = \"test_params1\"\n",
    "                folder1 = \"TEST_PARAMS2\"\n",
    "                folder2 = \"r=\" + str(r) + \",m=\" + str(m) + \",str(nu_)\" + str(nu)\n",
    "                folder = folder1 + \"/\" + folder2 ## Save animation and output a file containing info about the animation.\n",
    "                simulate_NS(eos_tag,dt,tEnd,m,r,points_,nu_,lt,kt,date,trial,notes=notes,specs = spec,folder_name=folder)"
   ]
  },
  {
   "cell_type": "markdown",
   "id": "076ead9a",
   "metadata": {},
   "source": [
    "### SINGLE PARAMETERS SET (AUTOMATIC) ### \n",
    " \n",
    " ###### This just tests the function with a single set of parameters\n",
    "\n"
   ]
  },
  {
   "cell_type": "code",
   "execution_count": null,
   "id": "d34c0deb",
   "metadata": {},
   "outputs": [],
   "source": [
    "###------------------------------------------------######------------------------------------------------###\n",
    " ### SINGLE SIMU\n",
    "eos_tag = \"standard\"\n",
    "dt = 10 # seconds\n",
    "tEnd = 6000 # seconds\n",
    "m = 10 # SMs\n",
    "r = 3 # km\n",
    "points_ = 300 # sph points\n",
    "nu_ = 10 # artificial viscosity\n",
    "lt = \"vanilla\" # Lagrangian formulation tag\n",
    "kt = \"wendland_2\" # Gaussian \n",
    "\n",
    "\n",
    "# Animation File Specifications \n",
    "date = \"Apr22\"\n",
    "trial = \"0\"\n",
    "notes = \"Altered the smoothing length.\"\n",
    "spec = \"altered_h\"\n",
    "folder1 = \"test_smoothing_length1\"\n",
    "folder2 = \"small_r/r=\" + str(r) + \", m=\" + str(m)\n",
    "\n",
    "## Save animation and output a file containing info about the animation.\n",
    "\n",
    "folder = folder1 + \"/\" + folder2\n",
    "# simulate_NS(eos_tag,dt,tEnd,m,r,points_,nu_,lt,kt,date,trial,notes=notes,specs = spec,folder_name=folder)\n",
    "\n",
    "###------------------------------------------------######------------------------------------------------###"
   ]
  }
 ],
 "metadata": {
  "kernelspec": {
   "display_name": "Python 3 (ipykernel)",
   "language": "python",
   "name": "python3"
  },
  "language_info": {
   "codemirror_mode": {
    "name": "ipython",
    "version": 3
   },
   "file_extension": ".py",
   "mimetype": "text/x-python",
   "name": "python",
   "nbconvert_exporter": "python",
   "pygments_lexer": "ipython3",
   "version": "3.9.12"
  }
 },
 "nbformat": 4,
 "nbformat_minor": 5
}
