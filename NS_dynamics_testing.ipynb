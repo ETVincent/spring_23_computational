{
 "cells": [
  {
   "cell_type": "markdown",
   "metadata": {},
   "source": [
    "# Neutron Star Class SPH Code"
   ]
  },
  {
   "cell_type": "code",
   "execution_count": 1,
   "metadata": {},
   "outputs": [],
   "source": [
    "import numpy as np\n",
    "import matplotlib.pyplot as plt\n",
    "from scipy.special import gamma\n",
    "import time\n",
    "import math\n",
    "import matplotlib as mp\n",
    "import scipy as sp\n",
    "import pylab as py\n",
    "import os\n",
    "import matplotlib.animation as animation\n",
    "\n",
    "plt.rcParams['axes.grid'] = True\n",
    "plt.style.use('dark_background')"
   ]
  },
  {
   "cell_type": "code",
   "execution_count": 13,
   "metadata": {},
   "outputs": [],
   "source": [
    "# Constants defined \n",
    "G = 6.67259e-11  # (km**3/kg/s**2)\n",
    "c= 3e8 #m/sec\n",
    "Ms = 1.98847e30 # solar mass in kg"
   ]
  },
  {
   "cell_type": "code",
   "execution_count": 2,
   "metadata": {},
   "outputs": [],
   "source": [
    "# import from other files \n",
    "from ipynb.fs.full.Neutron_Star_SPH_sph import W, gradW, getPairwiseSeparations, getDensity\n",
    "from ipynb.fs.full.Neutron_Star_SPH_eos import *\n",
    "from ipynb.fs.full.Neutron_Star_SPH_NS import *\n",
    "from ipynb.fs.full.NS_dynamics import *"
   ]
  },
  {
   "cell_type": "code",
   "execution_count": 3,
   "metadata": {},
   "outputs": [
    {
     "name": "stdout",
     "output_type": "stream",
     "text": [
      "-------success!\n",
      " \n",
      "STAR OBJECT. Name: 'my Neutron star 1', Mass: 1 SMs, Radius: 0.5 km \n",
      "\n",
      "-------success!\n",
      " \n",
      "STAR OBJECT. Name: 'my Neutron star 2', Mass: 0.5 SMs, Radius: 1 km \n",
      "\n"
     ]
    }
   ],
   "source": [
    "myEOS = EOS(name='standard') # create an equation of state object\n",
    "\n",
    "myNS = NS(\"my Neutron star 1\", myEOS,1,0.5)\n",
    "myNS2 = NS(\"my Neutron star 2\", myEOS,0.5,1) # double the mass and radius of the first star"
   ]
  },
  {
   "cell_type": "markdown",
   "metadata": {},
   "source": [
    "Stars are created. Now for motion. "
   ]
  },
  {
   "cell_type": "markdown",
   "metadata": {},
   "source": [
    "## galaxy collision"
   ]
  },
  {
   "cell_type": "code",
   "execution_count": 4,
   "metadata": {},
   "outputs": [
    {
     "ename": "TypeError",
     "evalue": "list indices must be integers or slices, not tuple",
     "output_type": "error",
     "traceback": [
      "\u001b[1;31m---------------------------------------------------------------------------\u001b[0m",
      "\u001b[1;31mTypeError\u001b[0m                                 Traceback (most recent call last)",
      "\u001b[1;32m<ipython-input-4-a1474a9130af>\u001b[0m in \u001b[0;36m<module>\u001b[1;34m\u001b[0m\n\u001b[0;32m      1\u001b[0m \u001b[0ml\u001b[0m \u001b[1;33m=\u001b[0m \u001b[1;33m[\u001b[0m\u001b[1;33m[\u001b[0m\u001b[1;36m0\u001b[0m\u001b[1;33m,\u001b[0m\u001b[1;36m0\u001b[0m\u001b[1;33m,\u001b[0m\u001b[1;36m0\u001b[0m\u001b[1;33m]\u001b[0m\u001b[1;33m,\u001b[0m\u001b[1;33m[\u001b[0m\u001b[1;36m2\u001b[0m\u001b[1;33m,\u001b[0m\u001b[1;36m2\u001b[0m\u001b[1;33m,\u001b[0m\u001b[1;36m2\u001b[0m\u001b[1;33m]\u001b[0m\u001b[1;33m]\u001b[0m\u001b[1;33m\u001b[0m\u001b[1;33m\u001b[0m\u001b[0m\n\u001b[1;32m----> 2\u001b[1;33m \u001b[0ml\u001b[0m\u001b[1;33m[\u001b[0m\u001b[1;36m0\u001b[0m\u001b[1;33m,\u001b[0m\u001b[1;33m:\u001b[0m\u001b[1;33m]\u001b[0m\u001b[1;33m\u001b[0m\u001b[1;33m\u001b[0m\u001b[0m\n\u001b[0m",
      "\u001b[1;31mTypeError\u001b[0m: list indices must be integers or slices, not tuple"
     ]
    }
   ],
   "source": [
    "l = [[0,0,0],[2,2,2]]\n",
    "l[0,:]"
   ]
  },
  {
   "cell_type": "code",
   "execution_count": null,
   "metadata": {},
   "outputs": [],
   "source": [
    "# \n",
    "def acceleration(pos1,pos2, ns1, ns2):\n",
    "    pos = [pos1,pos2]\n",
    "    mass = [ns1.get(masses), ns2.get(masses)]\n",
    "    acc = np.zeros(pos.shape)\n",
    "    n = pos.shape[0]\n",
    "    for i in range(n):\n",
    "        for j in range(n):\n",
    "            if j != i:\n",
    "                vector = pos[j, :] - pos[i, :]\n",
    "                distance = np.linalg.norm(vector)\n",
    "                if distance != 0:\n",
    "                    acc[i, :] += (G * massesM[j] * vector) / (distance + self.softLength) ** 3\n",
    "    return massesA\n",
    "\n",
    "\n",
    "def compute(ns1, ns2, dt):\n",
    "    # Calculating new positions\n",
    "    # method='RUNGE_KUTTA'\n",
    "    k1_X = ns1.vel * dt\n",
    "    k1_V = self.acceleration(self.massesX, self.massesM) * dt\n",
    "    k2_X = (self.massesV + k1_V / 2) * dt\n",
    "    k2_V = self.acceleration(self.massesX + k1_X / 2, self.massesM) * dt\n",
    "    k3_X = (self.massesV + k2_V / 2) * dt\n",
    "    k3_V = self.acceleration(self.massesX + k2_X / 2, self.massesM) * dt\n",
    "    k4_X = (self.massesV + k3_V) * dt\n",
    "    k4_V = self.acceleration(self.massesX + k3_X, self.massesM) * dt\n",
    "    # Updating positions\n",
    "    newX = self.massesX + (k1_X + 2 * k2_X + 2 * k3_X + k4_X) / 6\n",
    "    newV = self.massesV + (k1_V + 2 * k2_V + 2 * k3_V + k4_V) / 6\n",
    "    self.massesX = newX\n",
    "    self.massesV = newV\n",
    "    \n",
    "    \n",
    "def run(ns1, ns2, dt=0.1, T=10):\n",
    "    step, limit = 0, int(T / dt)\n",
    "    # MAIN LOOP\n",
    "    for step in range(limit):\n",
    "        # Computation\n",
    "        compute(ns1, ns2, dt)"
   ]
  },
  {
   "cell_type": "code",
   "execution_count": null,
   "metadata": {},
   "outputs": [],
   "source": [
    "def forces(pos):\n",
    "        width = abs(pos[0]-pos[1])\n",
    "        vector = self.centreMassX - position\n",
    "        distance = np.sqrt(vector[0] ** 2 + vector[1] ** 2 + vector[2] ** 2)\n",
    "        if distance != 0:\n",
    "            ratio = width / distance\n",
    "            if ratio < self.theta or self.allNoneChildren():\n",
    "                acceleration = (self.gravitationCst * self.centreMass * vector) / (distance + self.softLength) ** 3\n",
    "                return acceleration\n",
    "            else:\n",
    "                acceleration = np.array([0.0, 0.0, 0.0])\n",
    "                for i in self.children:\n",
    "                    if isinstance(i, OctTree) and i.nbObjects != 0:\n",
    "                        acceleration += i.forces(position)\n",
    "                return acceleration\n",
    "        else:\n",
    "            return np.array([0, 0, 0])"
   ]
  },
  {
   "cell_type": "markdown",
   "metadata": {},
   "source": [
    "## stable COM"
   ]
  },
  {
   "cell_type": "code",
   "execution_count": 41,
   "metadata": {},
   "outputs": [],
   "source": [
    "m1=myNS.get_mass()*Ms\n",
    "m2=myNS2.get_mass()*Ms\n",
    "rdist=2e10\n",
    "M=m1+m2\n",
    "\n",
    "r1=m2*rdist/(M)\n",
    "r2=rdist*(1-m2/M)\n",
    "p1 = np.array([-r1,0,0])\n",
    "p2 = np.array([r2,0,0])\n",
    "\n",
    "t=0\n",
    "dt=1000\n",
    "tend = 1e6\n",
    "i = 0\n",
    "N = int(tend/dt)\n",
    "\n",
    "Rcom=np.zeros([N,3])\n",
    "Rcom[0]=(m1*p1+m2*p2)/M\n",
    "\n",
    "mom1=np.zeros([N,3])\n",
    "mom2 = np.zeros([N,3])\n",
    "mom1[0] = m1*np.array([0,np.sqrt(G*m2**2/(rdist*M)),0])\n",
    "mom2[0] = -1*mom1[0]\n",
    "\n",
    "pos1=np.zeros([N,3])\n",
    "pos2=np.zeros([N,3])\n",
    "pos1[0] = p1\n",
    "pos2[0] = p2\n",
    "\n",
    "while t<(tend-dt):\n",
    "    i = i+1\n",
    "    r=pos2[i-1]-pos1[i-1]\n",
    "    F2=-G*m1*m2*r/(np.linalg.norm(r)**3)\n",
    "    mom1[i]=mom1[i-1]-F2*dt\n",
    "    mom2[i]=mom2[i-1]+F2*dt\n",
    "    pos1[i]=pos1[i-1]+mom1[i]*dt/m1\n",
    "    pos2[i]=pos2[i-1]+mom2[i]*dt/m2\n",
    "    Rcom[i]=(m1*pos1[i]+m2*pos2[i])/M\n",
    "    t=t+dt"
   ]
  },
  {
   "cell_type": "code",
   "execution_count": 42,
   "metadata": {},
   "outputs": [
    {
     "data": {
      "text/plain": [
       "(1000, 3)"
      ]
     },
     "execution_count": 42,
     "metadata": {},
     "output_type": "execute_result"
    }
   ],
   "source": [
    "pos1.shape"
   ]
  },
  {
   "cell_type": "markdown",
   "metadata": {},
   "source": [
    "## odeint integration"
   ]
  },
  {
   "cell_type": "code",
   "execution_count": null,
   "metadata": {},
   "outputs": [],
   "source": [
    "def two_body_eqm(_y, _t, _G, _m1, _m2):\n",
    "    \"\"\"\n",
    "    differential equations of motion describing the two-body-problem\n",
    "    _t: discrete time step value\n",
    "    _y: state vector\n",
    "    \"\"\"\n",
    "    # magnitude of position vector from r1 to r2\n",
    "    r_mag = np.linalg.norm(_y[3:6] - _y[:3])\n",
    "    c0 = _y[6:12]\n",
    "    c1 = _G * _m2 * ((_y[3:6] - _y[:3]) / np.power(r_mag, 3))\n",
    "    c2 = _G * _m1 * ((_y[:3] - _y[3:6]) / np.power(r_mag, 3))\n",
    "    return np.concatenate((c0, c1, c2))\n",
    "\n",
    "# ==============================================================\n",
    "# simulation harness\n",
    "\n",
    "\n",
    "# time array\n",
    "time = np.arange(0, 480, 0.5)\n",
    "\n",
    "# body m1 initial conditions\n",
    "m1 = 1e26  # mass (kg)\n",
    "r10 = np.array([0, 0, 0])  # initial position (km)\n",
    "v10 = np.array([10, 20, 30])  # initial velocity (km/s)\n",
    "\n",
    "# body m2 initial conditions\n",
    "m2 = 1e26  # mass (kg)\n",
    "r20 = np.array([3000, 0, 0])  # initial position (km)\n",
    "v20 = np.array([0, 40, 0])  # initial velocity (km/s)\n",
    "\n",
    "# [X1 (0), Y1 (1), Z1 (2), X2 (3), Y2 (4), Z2 (5), VX1 (6), VY1 (7), VZ1 (8), VX2 (9), VY2 (10), VZ2 (11)]\n",
    "y0 = np.concatenate((r10, r20, v10, v20))\n",
    "\n",
    "# ==============================================================\n",
    "# propagate state\n",
    "\n",
    "# simulation results\n",
    "state_history = []\n",
    "\n",
    "y = odeint(two_body_eqm, y0, time, args=(G, m1, m2))\n",
    "x1,x2,y1,y2,z1,z2,vx1,vx2,vy1,vy2,vz1,vz2 = leapfrogintegrate(0,0, r10, r20, v10, v20, m1, m2)\n",
    "\n",
    "for yk in y:\n",
    "    # extract inertial positions of body 1 and body 2\n",
    "    r1 = yk[:3]\n",
    "    r2 = yk[3:6]\n",
    "\n",
    "    # determine position of centre of mass\n",
    "    rg = ((m1 * r1) + (m2 * r2)) / (m1 + m2)\n",
    "\n",
    "    # position vector from m1 to m2\n",
    "    r12 = r2 - r1\n",
    "\n",
    "    # position vector from m1 to g\n",
    "    r1g = rg - r1\n",
    "\n",
    "    # position vector from g to m1\n",
    "    rg1 = r1 - rg\n",
    "\n",
    "    # position vector from g to m2\n",
    "    rg2 = r2 - rg\n",
    "\n",
    "    # save state history (yk = 0-11, rg = 12-14, r12=15-17, ...)\n",
    "    state_history.append(np.concatenate((yk, rg, r12, r1g, rg1, rg2), axis=None))\n",
    "\n",
    "# convert list to numpy array\n",
    "state_history = np.array(state_history)"
   ]
  },
  {
   "cell_type": "code",
   "execution_count": null,
   "metadata": {},
   "outputs": [],
   "source": [
    "# odeint integration \n",
    "fig = plt.figure()\n",
    "ax = plt.axes(projection='3d')\n",
    "ax.plot(y[0:,0], y[0:,1], y[0:,2], c='red')\n",
    "ax.plot(y[0:,3], y[0:,4], y[0:,5], c='blue')"
   ]
  },
  {
   "cell_type": "markdown",
   "metadata": {},
   "source": [
    "# Colliding objects"
   ]
  },
  {
   "cell_type": "code",
   "execution_count": null,
   "metadata": {},
   "outputs": [],
   "source": []
  },
  {
   "cell_type": "code",
   "execution_count": null,
   "metadata": {},
   "outputs": [],
   "source": [
    "\n",
    "mass_obj1 = myNS.get_mass() * solar_mass #1e26\n",
    "mass_obj2 = myNS2.get_mass() * solar_mass\n",
    "\n",
    "pos_obj1 = np.array([0, 500, 0])\n",
    "pos_obj2 = np.array([5045, 0, 909])\n",
    "\n",
    "v_obj1 = np.array([0, 0, 0])\n",
    "v_obj2 = np.array([30, 40, 50])\n",
    "\n",
    "N = 5000\n",
    "dt = .1"
   ]
  },
  {
   "cell_type": "markdown",
   "metadata": {},
   "source": [
    "## Orbit decay \n",
    "Code showing the decay of NS2 into the orbit of NS1. In this simulation, NS1 is stationary and NS2 is acting like a satellite around it. "
   ]
  },
  {
   "cell_type": "code",
   "execution_count": null,
   "metadata": {},
   "outputs": [],
   "source": [
    "t = 0\n",
    "name = 'NS2'\n",
    "orbit = 50e5 # int(input (\"original orbit /m\")) \n",
    "instantTime = 3600\n",
    "radius = orbit + myNS.radius \n",
    "P = gwpl(mass_obj1,mass_obj2,radius)\n",
    "velocity = ((G*mass_obj1)/radius)**0.5\n",
    "totalEnergy = -0.5*(G*mass_obj1*mass_obj2)/radius\n",
    "kmorbit = float(orbit/1000)\n",
    "orbitList= [orbit]\n",
    "timeList = [t]\n",
    "\n",
    "\n",
    "#--------------------------------------------------------------------------------\n",
    "\n",
    "while orbit >= minimum:\n",
    "    workdone = P*instantTime\n",
    "    totalEnergy = totalEnergy - workdone \n",
    "    radius = ((-0.5)*G*mass_obj1*mass_obj2/totalEnergy)\n",
    "    velocity =((G*mass_obj1)/radius)**0.5 \n",
    "    orbit = radius - myNS.radius \n",
    "    t += instantTime\n",
    "    orbitList.append(orbit/1000)\n",
    "    timeList.append(t/31536000)\n",
    "    if orbit < minimum:    \n",
    "        break\n",
    "years = float(t/31536000)\n",
    "print (\"years taken: %s\" % (years))"
   ]
  },
  {
   "cell_type": "code",
   "execution_count": null,
   "metadata": {},
   "outputs": [],
   "source": [
    "plt.plot(timeList, orbitList, color = \"blue\", lw = 2)\n",
    "plt.plot([0,years],[200,200],color = \"red\", linestyle = \"--\", lw =2)\n",
    "plt.title(\"Orbital Decay Simulation of \" + name, fontsize=18)\n",
    "plt.xlabel(\"time/years\", fontsize =18)\n",
    "plt.ylabel(\"orbit/km\", fontsize = 18)\n",
    "plt.axis([0,years,150,kmorbit])\n",
    "ax = plt.axes()        \n",
    "ax.yaxis.grid(True) \n",
    "ax.xaxis.grid(True) \n",
    "\n",
    "plt.show()"
   ]
  },
  {
   "cell_type": "markdown",
   "metadata": {},
   "source": [
    "## Gravitational wave orbit decay\n",
    "This solver takes the approach in http://www.tapir.caltech.edu/~chirata/ph236/2011-12/lec15.pdf page 5. \n",
    "That is, we solve for \n",
    "\n",
    "\\begin{equation}\n",
    "\\frac{dr}{dt} = \\frac{-64}{5} \\frac{M_{1}M_{2}(M_{1}+M_{2})}{a^{3}}\n",
    "\\end{equation} \n",
    "\n",
    "by accounting for the loss of orbital energy from gravitational waves. \n",
    "\n",
    "The thought is that if this works, it provides the change of radius. From there, you give them circular orbits? Idk. Then have them inspiral down. "
   ]
  },
  {
   "cell_type": "code",
   "execution_count": null,
   "metadata": {},
   "outputs": [],
   "source": [
    "a = 0.0# start time\n",
    "b = 300.0  # end time\n",
    "N = 1000\n",
    "h = (b-a)/N\n",
    "\n",
    "mass_obj1 = 30\n",
    "mass_obj2 = 60\n",
    "\n",
    "def r_dot(r,t):\n",
    "    #drdt = (-65/5)*(mass_obj1*mass_obj2*(mass_obj1+mass_obj2))/(r**3)\n",
    "    drdt = 1/(r**3)\n",
    "    return drdt\n",
    "\n",
    "tpoints = np.arange(a,b,h)\n",
    "r = np.zeros(N)\n",
    "r[0] = 45 #np.linalg.norm(get_r(pos_obj1,pos_obj2))\n",
    "\n",
    "# Loop over points to solve for r\n",
    "#for i in range(N-1):\n",
    "#    r[i+1] = r[i] + h*r_dot(r[i], tpoints[i])\n",
    "    \n",
    "for i in range(N-1):\n",
    "    k1 = h*r_dot(r[i], tpoints[i])\n",
    "    k2 = h*r_dot(r[i]+k1/2, tpoints[i]+h/2)\n",
    "    k3 = h*r_dot(r[i]+k2/2, tpoints[i]+h/2)\n",
    "    k4 = h*r_dot(r[i]+k3, tpoints[i]+h)\n",
    "    r[i+1] = r[i] + (1/6)*(k1+2*k2+2*k3+k4)\n",
    "\n",
    "actual = (4*tpoints)**(1/4) +r[0]\n",
    "sol = odeint(r_dot,r[0],tpoints)\n",
    "\n",
    "plt.plot(tpoints, actual, label='actual', c='yellow')\n",
    "plt.plot(tpoints, r, label='distance', c='cyan')\n",
    "plt.plot(tpoints,sol, label='built-in', c='red')\n",
    "plt.xlabel(\"t\")\n",
    "plt.ylabel('distance')\n",
    "plt.legend()\n",
    "plt.show()"
   ]
  },
  {
   "cell_type": "code",
   "execution_count": null,
   "metadata": {},
   "outputs": [],
   "source": [
    "r"
   ]
  },
  {
   "cell_type": "code",
   "execution_count": null,
   "metadata": {},
   "outputs": [],
   "source": []
  }
 ],
 "metadata": {
  "kernelspec": {
   "display_name": "Python 3",
   "language": "python",
   "name": "python3"
  },
  "language_info": {
   "codemirror_mode": {
    "name": "ipython",
    "version": 3
   },
   "file_extension": ".py",
   "mimetype": "text/x-python",
   "name": "python",
   "nbconvert_exporter": "python",
   "pygments_lexer": "ipython3",
   "version": "3.8.3"
  }
 },
 "nbformat": 4,
 "nbformat_minor": 5
}
