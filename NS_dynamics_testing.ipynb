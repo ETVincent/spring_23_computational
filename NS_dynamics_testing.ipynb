{
 "cells": [
  {
   "cell_type": "markdown",
   "metadata": {},
   "source": [
    "# Neutron Star Class SPH Code"
   ]
  },
  {
   "cell_type": "code",
   "execution_count": 1,
   "metadata": {},
   "outputs": [],
   "source": [
    "import numpy as np\n",
    "import matplotlib.pyplot as plt\n",
    "from scipy.special import gamma\n",
    "import time\n",
    "import math\n",
    "import matplotlib as mp\n",
    "import scipy as sp\n",
    "import pylab as py\n",
    "import os\n",
    "import matplotlib.animation as animation\n",
    "\n",
    "plt.rcParams['axes.grid'] = True\n",
    "plt.style.use('dark_background')"
   ]
  },
  {
   "cell_type": "code",
   "execution_count": null,
   "metadata": {},
   "outputs": [],
   "source": [
    "# Constants defined \n",
    "\n",
    "G = 6.67259e-11  # (km**3/kg/s**2)\n",
    "c= 3e8 #m/sec\n",
    "solar_mass = 1.98847e30 #kg"
   ]
  },
  {
   "cell_type": "code",
   "execution_count": 2,
   "metadata": {},
   "outputs": [],
   "source": [
    "from ipynb.fs.full.Neutron_Star_SPH_sph import W, gradW, getPairwiseSeparations, getDensity\n",
    "from ipynb.fs.full.Neutron_Star_SPH_eos import *\n",
    "from ipynb.fs.full.Neutron_Star_SPH_NS import *\n",
    "from ipynb.fs.full.NS_dynamics import *"
   ]
  },
  {
   "cell_type": "code",
   "execution_count": 3,
   "metadata": {},
   "outputs": [
    {
     "name": "stdout",
     "output_type": "stream",
     "text": [
      "-------success!\n",
      " \n",
      "STAR OBJECT. Name: 'my Neutron star 1', Mass: 1 SMs, Radius: 0.5 km \n",
      "\n",
      "-------success!\n",
      " \n",
      "STAR OBJECT. Name: 'my Neutron star 2', Mass: 0.5 SMs, Radius: 1 km \n",
      "\n"
     ]
    }
   ],
   "source": [
    "myEOS = EOS(name='standard') # create an equation of state object\n",
    "\n",
    "myNS = NS(\"my Neutron star 1\", myEOS,1,0.5)\n",
    "myNS2 = NS(\"my Neutron star 2\", myEOS,0.5,1) # double the mass and radius of the first star"
   ]
  },
  {
   "cell_type": "markdown",
   "metadata": {},
   "source": [
    "Stars are created. Now for motion. "
   ]
  },
  {
   "cell_type": "markdown",
   "metadata": {},
   "source": [
    "## odeint integration"
   ]
  },
  {
   "cell_type": "code",
   "execution_count": null,
   "metadata": {},
   "outputs": [],
   "source": [
    "def two_body_eqm(_y, _t, _G, _m1, _m2):\n",
    "    \"\"\"\n",
    "    differential equations of motion describing the two-body-problem\n",
    "    _t: discrete time step value\n",
    "    _y: state vector\n",
    "    \"\"\"\n",
    "    # magnitude of position vector from r1 to r2\n",
    "    r_mag = np.linalg.norm(_y[3:6] - _y[:3])\n",
    "    c0 = _y[6:12]\n",
    "    c1 = _G * _m2 * ((_y[3:6] - _y[:3]) / np.power(r_mag, 3))\n",
    "    c2 = _G * _m1 * ((_y[:3] - _y[3:6]) / np.power(r_mag, 3))\n",
    "    return np.concatenate((c0, c1, c2))\n",
    "\n",
    "# ==============================================================\n",
    "# simulation harness\n",
    "\n",
    "\n",
    "# time array\n",
    "time = np.arange(0, 480, 0.5)\n",
    "\n",
    "# body m1 initial conditions\n",
    "m1 = 1e26  # mass (kg)\n",
    "r10 = np.array([0, 0, 0])  # initial position (km)\n",
    "v10 = np.array([10, 20, 30])  # initial velocity (km/s)\n",
    "\n",
    "# body m2 initial conditions\n",
    "m2 = 1e26  # mass (kg)\n",
    "r20 = np.array([3000, 0, 0])  # initial position (km)\n",
    "v20 = np.array([0, 40, 0])  # initial velocity (km/s)\n",
    "\n",
    "# [X1 (0), Y1 (1), Z1 (2), X2 (3), Y2 (4), Z2 (5), VX1 (6), VY1 (7), VZ1 (8), VX2 (9), VY2 (10), VZ2 (11)]\n",
    "y0 = np.concatenate((r10, r20, v10, v20))\n",
    "\n",
    "# ==============================================================\n",
    "# propagate state\n",
    "\n",
    "# simulation results\n",
    "state_history = []\n",
    "\n",
    "y = odeint(two_body_eqm, y0, time, args=(G, m1, m2))\n",
    "x1,x2,y1,y2,z1,z2,vx1,vx2,vy1,vy2,vz1,vz2 = leapfrogintegrate(0,0, r10, r20, v10, v20, m1, m2)\n",
    "\n",
    "for yk in y:\n",
    "    # extract inertial positions of body 1 and body 2\n",
    "    r1 = yk[:3]\n",
    "    r2 = yk[3:6]\n",
    "\n",
    "    # determine position of centre of mass\n",
    "    rg = ((m1 * r1) + (m2 * r2)) / (m1 + m2)\n",
    "\n",
    "    # position vector from m1 to m2\n",
    "    r12 = r2 - r1\n",
    "\n",
    "    # position vector from m1 to g\n",
    "    r1g = rg - r1\n",
    "\n",
    "    # position vector from g to m1\n",
    "    rg1 = r1 - rg\n",
    "\n",
    "    # position vector from g to m2\n",
    "    rg2 = r2 - rg\n",
    "\n",
    "    # save state history (yk = 0-11, rg = 12-14, r12=15-17, ...)\n",
    "    state_history.append(np.concatenate((yk, rg, r12, r1g, rg1, rg2), axis=None))\n",
    "\n",
    "# convert list to numpy array\n",
    "state_history = np.array(state_history)"
   ]
  },
  {
   "cell_type": "code",
   "execution_count": null,
   "metadata": {},
   "outputs": [],
   "source": [
    "# odeint integration \n",
    "fig = plt.figure()\n",
    "ax = plt.axes(projection='3d')\n",
    "ax.plot(y[0:,0], y[0:,1], y[0:,2], c='red')\n",
    "ax.plot(y[0:,3], y[0:,4], y[0:,5], c='blue')"
   ]
  },
  {
   "cell_type": "markdown",
   "metadata": {},
   "source": [
    "# Colliding objects"
   ]
  },
  {
   "cell_type": "code",
   "execution_count": null,
   "metadata": {},
   "outputs": [],
   "source": []
  },
  {
   "cell_type": "code",
   "execution_count": null,
   "metadata": {},
   "outputs": [],
   "source": [
    "\n",
    "mass_obj1 = myNS.get_mass() * solar_mass #1e26\n",
    "mass_obj2 = myNS2.get_mass() * solar_mass\n",
    "\n",
    "pos_obj1 = np.array([0, 500, 0])\n",
    "pos_obj2 = np.array([5045, 0, 909])\n",
    "\n",
    "v_obj1 = np.array([0, 0, 0])\n",
    "v_obj2 = np.array([30, 40, 50])\n",
    "\n",
    "N = 5000\n",
    "dt = .1"
   ]
  },
  {
   "cell_type": "markdown",
   "metadata": {},
   "source": [
    "## Orbit decay \n",
    "Code showing the decay of NS2 into the orbit of NS1. In this simulation, NS1 is stationary and NS2 is acting like a satellite around it. "
   ]
  },
  {
   "cell_type": "code",
   "execution_count": null,
   "metadata": {},
   "outputs": [],
   "source": [
    "t = 0\n",
    "name = 'NS2'\n",
    "orbit = 50e5 # int(input (\"original orbit /m\")) \n",
    "instantTime = 3600\n",
    "radius = orbit + myNS.radius \n",
    "P = gwpl(mass_obj1,mass_obj2,radius)\n",
    "velocity = ((G*mass_obj1)/radius)**0.5\n",
    "totalEnergy = -0.5*(G*mass_obj1*mass_obj2)/radius\n",
    "kmorbit = float(orbit/1000)\n",
    "orbitList= [orbit]\n",
    "timeList = [t]\n",
    "\n",
    "\n",
    "#--------------------------------------------------------------------------------\n",
    "\n",
    "while orbit >= minimum:\n",
    "    workdone = P*instantTime\n",
    "    totalEnergy = totalEnergy - workdone \n",
    "    radius = ((-0.5)*G*mass_obj1*mass_obj2/totalEnergy)\n",
    "    velocity =((G*mass_obj1)/radius)**0.5 \n",
    "    orbit = radius - myNS.radius \n",
    "    t += instantTime\n",
    "    orbitList.append(orbit/1000)\n",
    "    timeList.append(t/31536000)\n",
    "    if orbit < minimum:    \n",
    "        break\n",
    "years = float(t/31536000)\n",
    "print (\"years taken: %s\" % (years))"
   ]
  },
  {
   "cell_type": "code",
   "execution_count": null,
   "metadata": {},
   "outputs": [],
   "source": [
    "plt.plot(timeList, orbitList, color = \"blue\", lw = 2)\n",
    "plt.plot([0,years],[200,200],color = \"red\", linestyle = \"--\", lw =2)\n",
    "plt.title(\"Orbital Decay Simulation of \" + name, fontsize=18)\n",
    "plt.xlabel(\"time/years\", fontsize =18)\n",
    "plt.ylabel(\"orbit/km\", fontsize = 18)\n",
    "plt.axis([0,years,150,kmorbit])\n",
    "ax = plt.axes()        \n",
    "ax.yaxis.grid(True) \n",
    "ax.xaxis.grid(True) \n",
    "\n",
    "plt.show()"
   ]
  },
  {
   "cell_type": "markdown",
   "metadata": {},
   "source": [
    "## Gravitational wave orbit decay\n",
    "This solver takes the approach in http://www.tapir.caltech.edu/~chirata/ph236/2011-12/lec15.pdf page 5. \n",
    "That is, we solve for \n",
    "\n",
    "\\begin{equation}\n",
    "\\frac{dr}{dt} = \\frac{-64}{5} \\frac{M_{1}M_{2}(M_{1}+M_{2})}{a^{3}}\n",
    "\\end{equation} \n",
    "\n",
    "by accounting for the loss of orbital energy from gravitational waves. \n",
    "\n",
    "The thought is that if this works, it provides the change of radius. From there, you give them circular orbits? Idk. Then have them inspiral down. "
   ]
  },
  {
   "cell_type": "code",
   "execution_count": null,
   "metadata": {},
   "outputs": [],
   "source": [
    "a = 0.0# start time\n",
    "b = 300.0  # end time\n",
    "N = 1000\n",
    "h = (b-a)/N\n",
    "\n",
    "mass_obj1 = 30\n",
    "mass_obj2 = 60\n",
    "\n",
    "def r_dot(r,t):\n",
    "    #drdt = (-65/5)*(mass_obj1*mass_obj2*(mass_obj1+mass_obj2))/(r**3)\n",
    "    drdt = 1/(r**3)\n",
    "    return drdt\n",
    "\n",
    "tpoints = np.arange(a,b,h)\n",
    "r = np.zeros(N)\n",
    "r[0] = 45 #np.linalg.norm(get_r(pos_obj1,pos_obj2))\n",
    "\n",
    "# Loop over points to solve for r\n",
    "#for i in range(N-1):\n",
    "#    r[i+1] = r[i] + h*r_dot(r[i], tpoints[i])\n",
    "    \n",
    "for i in range(N-1):\n",
    "    k1 = h*r_dot(r[i], tpoints[i])\n",
    "    k2 = h*r_dot(r[i]+k1/2, tpoints[i]+h/2)\n",
    "    k3 = h*r_dot(r[i]+k2/2, tpoints[i]+h/2)\n",
    "    k4 = h*r_dot(r[i]+k3, tpoints[i]+h)\n",
    "    r[i+1] = r[i] + (1/6)*(k1+2*k2+2*k3+k4)\n",
    "\n",
    "actual = (4*tpoints)**(1/4) +r[0]\n",
    "sol = odeint(r_dot,r[0],tpoints)\n",
    "\n",
    "plt.plot(tpoints, actual, label='actual', c='yellow')\n",
    "plt.plot(tpoints, r, label='distance', c='cyan')\n",
    "plt.plot(tpoints,sol, label='built-in', c='red')\n",
    "plt.xlabel(\"t\")\n",
    "plt.ylabel('distance')\n",
    "plt.legend()\n",
    "plt.show()"
   ]
  },
  {
   "cell_type": "code",
   "execution_count": null,
   "metadata": {},
   "outputs": [],
   "source": [
    "r"
   ]
  },
  {
   "cell_type": "code",
   "execution_count": null,
   "metadata": {},
   "outputs": [],
   "source": []
  }
 ],
 "metadata": {
  "kernelspec": {
   "display_name": "Python 3",
   "language": "python",
   "name": "python3"
  },
  "language_info": {
   "codemirror_mode": {
    "name": "ipython",
    "version": 3
   },
   "file_extension": ".py",
   "mimetype": "text/x-python",
   "name": "python",
   "nbconvert_exporter": "python",
   "pygments_lexer": "ipython3",
   "version": "3.8.3"
  }
 },
 "nbformat": 4,
 "nbformat_minor": 5
}
