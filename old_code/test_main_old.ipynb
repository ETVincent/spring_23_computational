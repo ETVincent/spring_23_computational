{
 "cells": [
  {
   "cell_type": "markdown",
   "metadata": {},
   "source": [
    "# TEST"
   ]
  },
  {
   "cell_type": "code",
   "execution_count": 4,
   "metadata": {},
   "outputs": [],
   "source": [
    "import numpy as np\n",
    "import matplotlib.pyplot as plt\n",
    "from scipy.special import gamma\n",
    "import time\n",
    "import math\n",
    "import matplotlib as mp\n",
    "import scipy as sp\n",
    "import pylab as py\n",
    "from mpl_toolkits.mplot3d import Axes3D\n",
    "import matplotlib.animation\n",
    "import pandas as pd"
   ]
  },
  {
   "cell_type": "code",
   "execution_count": 5,
   "metadata": {},
   "outputs": [
    {
     "name": "stdout",
     "output_type": "stream",
     "text": [
      "-------success!\n",
      " \n",
      "STAR OBJECT. Name: 'star_1', Mass: 10 SMs, Radius: 2 km \n",
      "\n",
      "1 Initialized star\n",
      "2 Update ran\n"
     ]
    }
   ],
   "source": [
    "from ipynb.fs.full.Neutron_Star_SPH_sph import W, gradW, getPairwiseSeparations, getDensity\n",
    "from ipynb.fs.full.Neutron_Star_SPH_eos import *\n",
    "from ipynb.fs.full.Neutron_Star_SPH_NS import *\n",
    "from ipynb.fs.full.NS_dynamics import *"
   ]
  },
  {
   "cell_type": "code",
   "execution_count": 6,
   "metadata": {},
   "outputs": [
    {
     "name": "stdout",
     "output_type": "stream",
     "text": [
      "-------success!\n",
      " \n",
      "STAR OBJECT. Name: 'star_1', Mass: 1 SMs, Radius: 1 km \n",
      "\n",
      "-------success!\n",
      " \n",
      "STAR OBJECT. Name: 'star_2', Mass: 2 SMs, Radius: 1 km \n",
      "\n",
      "sucessfully initialized stars!\n"
     ]
    }
   ],
   "source": [
    "# Initialize Neutron Star Objects\n",
    "M1 = 1\n",
    "M2 = 2\n",
    "R1 = 1\n",
    "R2 = 1\n",
    "\n",
    "eos = EOS('standard')\n",
    "star_1 = NS(\"star_1\", eos,M1,R1)\n",
    "star_2 = NS(\"star_2\", eos,M2,R2)\n",
    "\n",
    "# =================== Simulation Specs for the animation ================== # \n",
    "end_time = 2200 # amount of time that the simulation runs (seconds)\n",
    "time_per_timestep = 1 # the amount of time, in seconds, that goes by in 1 timestep.\n",
    "EndTimeStep = end_time/time_per_timestep # number of timesteps of the animation\n",
    "print(\"sucessfully initialized stars!\")"
   ]
  },
  {
   "cell_type": "code",
   "execution_count": 10,
   "metadata": {},
   "outputs": [
    {
     "ename": "AttributeError",
     "evalue": "'NS' object has no attribute 'modify_com_force'",
     "output_type": "error",
     "traceback": [
      "\u001b[1;31m---------------------------------------------------------------------------\u001b[0m",
      "\u001b[1;31mAttributeError\u001b[0m                            Traceback (most recent call last)",
      "\u001b[1;32m<ipython-input-10-5a1b7d914a0f>\u001b[0m in \u001b[0;36m<module>\u001b[1;34m\u001b[0m\n\u001b[0;32m     25\u001b[0m     \u001b[0mstar_2\u001b[0m\u001b[1;33m.\u001b[0m\u001b[0mmove_com\u001b[0m\u001b[1;33m(\u001b[0m\u001b[0mstar2_com\u001b[0m\u001b[1;33m)\u001b[0m\u001b[1;33m\u001b[0m\u001b[1;33m\u001b[0m\u001b[0m\n\u001b[0;32m     26\u001b[0m         \u001b[1;31m# -- 1. update the force on the center of mass -- #\u001b[0m\u001b[1;33m\u001b[0m\u001b[1;33m\u001b[0m\u001b[1;33m\u001b[0m\u001b[0m\n\u001b[1;32m---> 27\u001b[1;33m     \u001b[0mstar_1\u001b[0m\u001b[1;33m.\u001b[0m\u001b[0mmodify_com_force\u001b[0m\u001b[1;33m(\u001b[0m\u001b[0mf\u001b[0m\u001b[1;33m)\u001b[0m \u001b[1;31m# The center of masses of the points experience increasing forces in opposite directions.\u001b[0m\u001b[1;33m\u001b[0m\u001b[1;33m\u001b[0m\u001b[0m\n\u001b[0m\u001b[0;32m     28\u001b[0m     \u001b[0mstar_2\u001b[0m\u001b[1;33m.\u001b[0m\u001b[0mmodify_com_force\u001b[0m\u001b[1;33m(\u001b[0m\u001b[1;33m[\u001b[0m\u001b[1;33m-\u001b[0m\u001b[1;36m1\u001b[0m\u001b[1;33m*\u001b[0m\u001b[0mi\u001b[0m \u001b[1;32mfor\u001b[0m \u001b[0mi\u001b[0m \u001b[1;32min\u001b[0m \u001b[0mf\u001b[0m\u001b[1;33m]\u001b[0m\u001b[1;33m)\u001b[0m \u001b[1;31m#\u001b[0m\u001b[1;33m\u001b[0m\u001b[1;33m\u001b[0m\u001b[0m\n\u001b[0;32m     29\u001b[0m         \u001b[1;31m# -- 2. update the positions, velocities, and accelerations for this timestep. -- #\u001b[0m\u001b[1;33m\u001b[0m\u001b[1;33m\u001b[0m\u001b[1;33m\u001b[0m\u001b[0m\n",
      "\u001b[1;31mAttributeError\u001b[0m: 'NS' object has no attribute 'modify_com_force'"
     ]
    }
   ],
   "source": [
    "# ============== Takes in a list of center of mass positions ============== #\n",
    "star1_list, star2_list = orbit(star_1, star_2)\n",
    "star1_com = star1_list[0] # km \n",
    "star2_com = star2_list[0] # km \n",
    "\n",
    "if len(star1_list) != int(EndTimeStep):\n",
    "    raise ValueError(\"List of center of mass positions for the first star does not match number of timesteps\")\n",
    "if len(star2_list) != int(EndTimeStep):\n",
    "    raise ValueError(\"List of center of mass positions for the second star does not match number of timesteps\")\n",
    "if len(star1_list[0]) != 3:\n",
    "    raise ValueError(\"Center of mass coordinates must have dimension 3\")\n",
    "if len(star2_list[0]) != 3:\n",
    "    raise ValueError(\"Center of mass coordinates must have dimension 3\")\n",
    "# ========================================================================= # \n",
    "# The next few blocks creates an animation with the two stars in 3D.\n",
    "\n",
    "star1_pos = star_1.getPosition()\n",
    "star2_pos = star_2.getPosition()\n",
    "a = np.concatenate((star1_pos,star2_pos)) # start off array of points with just the initial star locations.\n",
    "\n",
    "# Update the Neutron Star points locations...\n",
    "for t in range(int(EndTimeStep)): # for every timestep in the simulation\n",
    "        # -- 0. Update the location of the center of mass -- #\n",
    "    star_1.move_com(star1_com) # move the stars to their COM locations\n",
    "    star_2.move_com(star2_com)\n",
    "        # -- 1. update the force on the center of mass -- #\n",
    "    star_1.modify_com_force(f) # The center of masses of the points experience increasing forces in opposite directions.\n",
    "    star_2.modify_com_force([-1*i for i in f]) # \n",
    "        # -- 2. update the positions, velocities, and accelerations for this timestep. -- #\n",
    "    pos1 = star_1.getPosition() # just updating the point locations for now.\n",
    "    pos2 = star_2.getPosition()\n",
    "    ### Output Current Star Point positions to pandas dataframe for plotting\n",
    "    a = np.concatenate((a,pos1)) # add the new star positions for this timestep to the outputed data array for star 1\n",
    "    a = np.concatenate((a,pos2))# add the new star positions for this timestep to the outputed data array for star 2\n",
    "    \n",
    "print(\"Sucessfully updated and stored star locations.\")\n",
    "\n",
    "num_points1 = star_1.num_points \n",
    "num_points2 = star_2.num_points\n",
    "points_per_timestep = num_points1 + num_points2 # we need to assign the first set of points, (num_points1 + num_points2) points to the same timestep in the movie\n",
    "\n",
    "points_count = len(a) # Total number of points in the entire simulation\n",
    "t = np.array([np.ones(points_per_timestep)*i for i in range(int(points_count/points_per_timestep))]).flatten() # an array counting from 0 to 19. Each number repeats 100 times.\n",
    "df = pd.DataFrame({\"time\": t ,\"x\" : a[:,0], \"y\" : a[:,1], \"z\" : a[:,2]})\n",
    "print(\"\\nSucessfully made plotting dataframe: \\n\")\n",
    "print(df)\n",
    "\n",
    "def update_graph(num):\n",
    "    data=df[df['time']==num]\n",
    "    graph._offsets3d = (data.x, data.y, data.z)\n",
    "    title.set_text('NS Test, time={}'.format(num))\n",
    "    \n",
    "fig = plt.figure()\n",
    "ax = fig.add_subplot(111, projection='3d')\n",
    "title = ax.set_title('NS Test')\n",
    "data=df[df['time']==0]\n",
    "graph = ax.scatter(data.x, data.y, data.z)\n",
    "ani = matplotlib.animation.FuncAnimation(fig, update_graph, int(EndTimeStep), interval=10, blit=False)\n",
    "plt.show()"
   ]
  },
  {
   "cell_type": "code",
   "execution_count": null,
   "metadata": {},
   "outputs": [],
   "source": []
  },
  {
   "cell_type": "code",
   "execution_count": null,
   "metadata": {},
   "outputs": [],
   "source": [
    "star1_com = [-10,-10,-10] # km \n",
    "star2_com = [-100,-1,1] # km \n",
    "star1_com_velocity = [10,20,30] # km/s \n",
    "star2_com_velocity = [0,40,0] # km/s\n",
    "\n",
    "star_1.move_com(star1_com) # move the stars to their initial locations\n",
    "star_2.move_com(star2_com) \n",
    "\n",
    "r = get_r(star1_com,star2_com) # gravitational force\n",
    "f = grav_force(M1, M2,r)"
   ]
  },
  {
   "cell_type": "code",
   "execution_count": null,
   "metadata": {},
   "outputs": [],
   "source": [
    "\"\"\"\n",
    "This is the part that is not right, but the goalof this block is \n",
    "to produce two numpy arrays containing the center of mass positions. \n",
    "\n",
    "COM_DATA_star1 = numpy array containing star 1 center of mass positions\n",
    "COM_DATA_star2 = numpy array containing star 2 center of mass positions\n",
    "\n",
    "\"\"\"\n",
    "# ==============================================================\n",
    "# time array\n",
    "time = np.arange(0, 480, 0.5)\n",
    "\n",
    "# body m1 initial conditions\n",
    "m1 = M1*2e30  # mass (kg)\n",
    "r10 = np.array(star1_com)  # initial position (km)\n",
    "v10 = np.array(star1_com_velocity)  # initial velocity (km/s)\n",
    "\n",
    "# body m2 initial conditions\n",
    "m2 = M2*2e30  # mass (kg)\n",
    "r20 = np.array(star2_com)  # initial position (km)\n",
    "v20 = np.array(star2_com_velocity)  # initial velocity (km/s)\n",
    "# ==============================================================\n",
    "# propagate state\n",
    "N_ = 1000 # timesteps\n",
    "dt_ = 0.1 # seconds\n",
    "\n",
    "# simulation results\n",
    "x1,x2,y1,y2,z1,z2,vx1,vx2,vy1,vy2,vz1,vz2 = leapfrogintegrate(0,0, r10, r20, v10, v20, m1, m2,N=N_,dt = dt_)\n",
    "\n",
    "COM_DATA_star1 = np.concatenate((x1,y1,z1))\n",
    "COM_DATA_star2 = np.concatenate((x2,y2,z2))"
   ]
  },
  {
   "cell_type": "code",
   "execution_count": null,
   "metadata": {},
   "outputs": [],
   "source": []
  },
  {
   "cell_type": "code",
   "execution_count": null,
   "metadata": {},
   "outputs": [],
   "source": []
  },
  {
   "cell_type": "code",
   "execution_count": 5,
   "metadata": {},
   "outputs": [
    {
     "name": "stdout",
     "output_type": "stream",
     "text": [
      "Sucessfully updated and stored star locations.\n",
      "\n",
      "Sucessfully made plotting dataframe: \n",
      "\n",
      "            time          x          y          z\n",
      "0            0.0  -9.774197  -9.931212  -9.808120\n",
      "1            0.0  -9.639061 -10.045259 -10.001203\n",
      "2            0.0  -9.663437  -9.792500 -10.107379\n",
      "3            0.0  -9.863032 -10.051771 -10.092461\n",
      "4            0.0  -9.954110 -10.357047 -10.384088\n",
      "...          ...        ...        ...        ...\n",
      "6000595  10000.0 -99.618300  -0.961908   0.896455\n",
      "6000596  10000.0 -99.780903  -0.697705   1.111279\n",
      "6000597  10000.0 -99.901021  -0.720705   1.269787\n",
      "6000598  10000.0 -99.684648  -0.892159   0.987672\n",
      "6000599  10000.0 -99.867429  -0.685720   0.729750\n",
      "\n",
      "[6000600 rows x 4 columns]\n"
     ]
    },
    {
     "data": {
      "image/png": "[encoded data removed]",
      "text/plain": [
       "<Figure size 432x288 with 1 Axes>"
      ]
     },
     "metadata": {},
     "output_type": "display_data"
    }
   ],
   "source": [
    "# ============== Takes in a list of center of mass positions ============== #\n",
    "\n",
    "\n",
    "star1_list = [star1_com for i in range(int(EndTimeStep))] # Todo !!!  This is a placeholder value and should come from the above block\n",
    "star2_list = [star2_com for i in range(int(EndTimeStep))] # Todo !!!\n",
    "\n",
    "if len(star1_list) != int(EndTimeStep):\n",
    "    raise ValueError(\"List of center of mass positions for the first star does not match number of timesteps\")\n",
    "if len(star2_list) != int(EndTimeStep):\n",
    "    raise ValueError(\"List of center of mass positions for the second star does not match number of timesteps\")\n",
    "if len(star1_list[0]) != 3:\n",
    "    raise ValueError(\"Center of mass coordinates must have dimension 3\")\n",
    "if len(star2_list[0]) != 3:\n",
    "    raise ValueError(\"Center of mass coordinates must have dimension 3\")\n",
    "# ========================================================================= # \n",
    "# The next few blocks creates an animation with the two stars in 3D.\n",
    "\n",
    "star1_pos = star_1.getPosition()\n",
    "star2_pos = star_2.getPosition()\n",
    "a = np.concatenate((star1_pos,star2_pos)) # start off array of points with just the initial star locations.\n",
    "\n",
    "# Update the Neutron Star points locations...\n",
    "for t in range(int(EndTimeStep)): # for every timestep in the simulation\n",
    "        # -- 0. Update the location of the center of mass -- #\n",
    "    star_1.move_com(star1_com) # move the stars to their COM locations\n",
    "    star_2.move_com(star2_com)\n",
    "        # -- 1. update the force on the center of mass -- #\n",
    "    star_1.modify_com_force(f) # The center of masses of the points experience increasing forces in opposite directions.\n",
    "    star_2.modify_com_force([-1*i for i in f]) # \n",
    "        # -- 2. update the positions, velocities, and accelerations for this timestep. -- #\n",
    "    pos1 = star_1.getPosition() # just updating the point locations for now.\n",
    "    pos2 = star_2.getPosition()\n",
    "    ### Output Current Star Point positions to pandas dataframe for plotting\n",
    "    a = np.concatenate((a,pos1)) # add the new star positions for this timestep to the outputed data array for star 1\n",
    "    a = np.concatenate((a,pos2))# add the new star positions for this timestep to the outputed data array for star 2\n",
    "    \n",
    "print(\"Sucessfully updated and stored star locations.\")\n",
    "\n",
    "num_points1 = star_1.num_points \n",
    "num_points2 = star_2.num_points\n",
    "points_per_timestep = num_points1 + num_points2 # we need to assign the first set of points, (num_points1 + num_points2) points to the same timestep in the movie\n",
    "\n",
    "points_count = len(a) # Total number of points in the entire simulation\n",
    "t = np.array([np.ones(points_per_timestep)*i for i in range(int(points_count/points_per_timestep))]).flatten() # an array counting from 0 to 19. Each number repeats 100 times.\n",
    "df = pd.DataFrame({\"time\": t ,\"x\" : a[:,0], \"y\" : a[:,1], \"z\" : a[:,2]})\n",
    "print(\"\\nSucessfully made plotting dataframe: \\n\")\n",
    "print(df)\n",
    "\n",
    "def update_graph(num):\n",
    "    data=df[df['time']==num]\n",
    "    graph._offsets3d = (data.x, data.y, data.z)\n",
    "    title.set_text('NS Test, time={}'.format(num))\n",
    "    \n",
    "fig = plt.figure()\n",
    "ax = fig.add_subplot(111, projection='3d')\n",
    "title = ax.set_title('NS Test')\n",
    "data=df[df['time']==0]\n",
    "graph = ax.scatter(data.x, data.y, data.z)\n",
    "ani = matplotlib.animation.FuncAnimation(fig, update_graph, int(EndTimeStep), interval=10, blit=False)\n",
    "plt.show()"
   ]
  },
  {
   "cell_type": "code",
   "execution_count": 6,
   "metadata": {},
   "outputs": [
    {
     "name": "stdout",
     "output_type": "stream",
     "text": [
      "Sucessfully updated and stored star locations.\n",
      "\n",
      "Sucessfully made plotting dataframe: \n",
      "\n",
      "            time          x          y          z\n",
      "0            0.0  -9.774197  -9.931212  -9.808120\n",
      "1            0.0  -9.639061 -10.045259 -10.001203\n",
      "2            0.0  -9.663437  -9.792500 -10.107379\n",
      "3            0.0  -9.863032 -10.051771 -10.092461\n",
      "4            0.0  -9.954110 -10.357047 -10.384088\n",
      "...          ...        ...        ...        ...\n",
      "6000595  10000.0 -99.618300  -0.961908   0.896455\n",
      "6000596  10000.0 -99.780903  -0.697705   1.111279\n",
      "6000597  10000.0 -99.901021  -0.720705   1.269787\n",
      "6000598  10000.0 -99.684648  -0.892159   0.987672\n",
      "6000599  10000.0 -99.867429  -0.685720   0.729750\n",
      "\n",
      "[6000600 rows x 4 columns]\n"
     ]
    },
    {
     "data": {
      "image/png": "[encoded data removed]",
      "text/plain": [
       "<Figure size 432x288 with 1 Axes>"
      ]
     },
     "metadata": {},
     "output_type": "display_data"
    }
   ],
   "source": [
    "# ============== Takes in a list of center of mass positions ============== #\n",
    "\n",
    "\n",
    "star1_list, star2_list, com = orbit(star_1, star_2, 2e10)\n",
    "\n",
    "if len(star1_list) != int(EndTimeStep):\n",
    "    raise ValueError(\"List of center of mass positions for the first star does not match number of timesteps\")\n",
    "if len(star2_list) != int(EndTimeStep):\n",
    "    raise ValueError(\"List of center of mass positions for the second star does not match number of timesteps\")\n",
    "if len(star1_list[0]) != 3:\n",
    "    raise ValueError(\"Center of mass coordinates must have dimension 3\")\n",
    "if len(star2_list[0]) != 3:\n",
    "    raise ValueError(\"Center of mass coordinates must have dimension 3\")\n",
    "# ========================================================================= # \n",
    "# The next few blocks creates an animation with the two stars in 3D.\n",
    "\n",
    "star1_pos = star_1.getPosition()\n",
    "star2_pos = star_2.getPosition()\n",
    "a = np.concatenate((star1_pos,star2_pos)) # start off array of points with just the initial star locations.\n",
    "\n",
    "# Update the Neutron Star points locations...\n",
    "for t in range(int(EndTimeStep)): # for every timestep in the simulation\n",
    "        # -- 0. Update the location of the center of mass -- #\n",
    "    star_1.move_com(star1_com) # move the stars to their COM locations\n",
    "    star_2.move_com(star2_com)\n",
    "        # -- 1. update the force on the center of mass -- #\n",
    "    star_1.modify_com_force(f) # The center of masses of the points experience increasing forces in opposite directions.\n",
    "    star_2.modify_com_force([-1*i for i in f]) # \n",
    "        # -- 2. update the positions, velocities, and accelerations for this timestep. -- #\n",
    "    pos1 = star_1.getPosition() # just updating the point locations for now.\n",
    "    pos2 = star_2.getPosition()\n",
    "    ### Output Current Star Point positions to pandas dataframe for plotting\n",
    "    a = np.concatenate((a,pos1)) # add the new star positions for this timestep to the outputed data array for star 1\n",
    "    a = np.concatenate((a,pos2))# add the new star positions for this timestep to the outputed data array for star 2\n",
    "    \n",
    "print(\"Sucessfully updated and stored star locations.\")\n",
    "\n",
    "num_points1 = star_1.num_points \n",
    "num_points2 = star_2.num_points\n",
    "points_per_timestep = num_points1 + num_points2 # we need to assign the first set of points, (num_points1 + num_points2) points to the same timestep in the movie\n",
    "\n",
    "points_count = len(a) # Total number of points in the entire simulation\n",
    "t = np.array([np.ones(points_per_timestep)*i for i in range(int(points_count/points_per_timestep))]).flatten() # an array counting from 0 to 19. Each number repeats 100 times.\n",
    "df = pd.DataFrame({\"time\": t ,\"x\" : a[:,0], \"y\" : a[:,1], \"z\" : a[:,2]})\n",
    "print(\"\\nSucessfully made plotting dataframe: \\n\")\n",
    "print(df)\n",
    "\n",
    "def update_graph(num):\n",
    "    data=df[df['time']==num]\n",
    "    graph._offsets3d = (data.x, data.y, data.z)\n",
    "    title.set_text('NS Test, time={}'.format(num))\n",
    "    \n",
    "fig = plt.figure()\n",
    "ax = fig.add_subplot(111, projection='3d')\n",
    "title = ax.set_title('NS Test')\n",
    "data=df[df['time']==0]\n",
    "graph = ax.scatter(data.x, data.y, data.z)\n",
    "ani = matplotlib.animation.FuncAnimation(fig, update_graph, int(EndTimeStep), interval=10, blit=False)\n",
    "plt.show()"
   ]
  },
  {
   "cell_type": "code",
   "execution_count": null,
   "metadata": {},
   "outputs": [],
   "source": [
    "ani.save(\"ns-test-.mp4\")\n",
    "print(\"Saved animation.\")"
   ]
  },
  {
   "cell_type": "markdown",
   "metadata": {},
   "source": [
    "# *****___*Testing before April 20th****___"
   ]
  },
  {
   "cell_type": "markdown",
   "metadata": {},
   "source": [
    "# Neutron Star plot Animation "
   ]
  },
  {
   "cell_type": "code",
   "execution_count": null,
   "metadata": {},
   "outputs": [],
   "source": [
    "# Initialize Neutron Star Objects\n",
    "\n",
    "eos = EOS('standard')\n",
    "star_1 = NS(\"star_1\", stdEOS,0.5,0.5)\n",
    "star_2 = NS(\"star_2\", stdEOS,0.5,0.5)\n",
    "star_2.pos += 400\n",
    "\n",
    "# The goal of this is to create an animation with two stars in 3D, moving.\n"
   ]
  },
  {
   "cell_type": "code",
   "execution_count": 8,
   "metadata": {},
   "outputs": [],
   "source": [
    "EndTime = 20\n",
    "\n",
    "num_points1 = star_1.num_points\n",
    "num_points2 = star_2.num_points\n",
    "\n",
    "a = np.concatenate((star_1.pos,star_2.pos)) # start off array of points with just the initial star locations.\n",
    "# add new star positions\n",
    "L = [star_1.pos+5,star_2.pos-5, star_1.pos+10,star_2.pos-10,star_1.pos+15,star_2.pos-15,star_1.pos+20,star_2.pos-20]\n",
    "for l in L:\n",
    "    a = np.concatenate((a,l)) # Array of data to plot. len(a) by 3 dimensions."
   ]
  },
  {
   "cell_type": "code",
   "execution_count": 9,
   "metadata": {},
   "outputs": [
    {
     "data": {
      "image/png": "[encoded data removed]",
      "text/plain": [
       "<Figure size 432x288 with 1 Axes>"
      ]
     },
     "metadata": {},
     "output_type": "display_data"
    },
    {
     "name": "stdout",
     "output_type": "stream",
     "text": [
      "     time          x          y          z\n",
      "0     0.0   0.020271  -0.205797  -0.026451\n",
      "1     0.0   0.087914  -0.048513  -0.008074\n",
      "2     0.0   0.169996   0.070636  -0.049417\n",
      "3     0.0   0.020106  -0.005140   0.107250\n",
      "4     0.0   0.029485  -0.245629  -0.208394\n",
      "..    ...        ...        ...        ...\n",
      "995   4.0 -21.608405 -20.097912 -19.397395\n",
      "996   4.0 -19.649322 -20.139181 -20.177872\n",
      "997   4.0 -20.530328 -20.579865 -19.107262\n",
      "998   4.0 -19.741982 -21.071845 -19.236603\n",
      "999   4.0 -19.832343 -19.261326 -19.320217\n",
      "\n",
      "[1000 rows x 4 columns]\n"
     ]
    }
   ],
   "source": [
    "points_count = len(a) # Total number of points in the entire simulation\n",
    "points_per_timestep = num_points1 + num_points2# we need to assign the first set of points, (num_points1 + num_points2) points to the same timestep in the movie\n",
    "t = np.array([np.ones(points_per_timestep)*i for i in range(int(points_count/points_per_timestep))]).flatten() # an array counting from 0 to 19. Each number repeats 100 times.\n",
    "df = pd.DataFrame({\"time\": t ,\"x\" : a[:,0], \"y\" : a[:,1], \"z\" : a[:,2]})\n",
    "\n",
    "def update_graph(num):\n",
    "    data=df[df['time']==num]\n",
    "    graph._offsets3d = (data.x, data.y, data.z)\n",
    "    title.set_text('3D Test, time={}'.format(num))\n",
    "    \n",
    "fig = plt.figure()\n",
    "ax = fig.add_subplot(111, projection='3d')\n",
    "title = ax.set_title('NS Test')\n",
    "data=df[df['time']==0]\n",
    "graph = ax.scatter(data.x, data.y, data.z)\n",
    "ani = matplotlib.animation.FuncAnimation(fig, update_graph, EndTime, \n",
    "                               interval=10, blit=False)\n",
    "plt.show()\n",
    "print(df)"
   ]
  },
  {
   "cell_type": "code",
   "execution_count": null,
   "metadata": {},
   "outputs": [],
   "source": [
    "ani.save(\"ns-test.mp4\") # Save animation"
   ]
  },
  {
   "cell_type": "markdown",
   "metadata": {},
   "source": []
  },
  {
   "cell_type": "markdown",
   "metadata": {},
   "source": [
    "# *****___*Testing before April 16th****___"
   ]
  },
  {
   "cell_type": "markdown",
   "metadata": {},
   "source": [
    "### INITIALIZE STAR / EOS OBJECTS "
   ]
  },
  {
   "cell_type": "code",
   "execution_count": null,
   "metadata": {},
   "outputs": [],
   "source": [
    "Tag1 = \"NS1\"\n",
    "Tag2 = \"NS2\"\n",
    "\n",
    "stdEOS = EOS('standard') # create an equation of state object\n",
    "eos_name = stdEOS.notes\n",
    "print(eos_name + \"\\n\")\n",
    "\n",
    "myNS = NS(Tag1, stdEOS,0.5,0.5)\n",
    "myNS2 = NS(Tag2, stdEOS,2,0.5) # double the mass and radius of the first star\n",
    "\n",
    "# for plots\n",
    "ns1 = [myNS]\n",
    "ns2 = [myNS2]\n",
    "both = [myNS, myNS2]"
   ]
  },
  {
   "cell_type": "markdown",
   "metadata": {},
   "source": [
    "# Test Plotting of 2 stars"
   ]
  },
  {
   "cell_type": "code",
   "execution_count": null,
   "metadata": {},
   "outputs": [],
   "source": [
    "stars = both # choose which stars you want to plot\n",
    "dt = 0.05\n",
    "T = 1\n",
    "acc = 5\n",
    "for timestep in range(int(T/dt)):\n",
    "    ns2[0].shift(acc) # shifting the star at each timestep\n",
    "    plot(both, 7,7)"
   ]
  },
  {
   "cell_type": "markdown",
   "metadata": {},
   "source": [
    "### Save Results/Make Code File Structure"
   ]
  },
  {
   "cell_type": "code",
   "execution_count": null,
   "metadata": {},
   "outputs": [],
   "source": [
    "prev_date = \"Apr8\" # CHANGE WHEN YOU ARE DONE FOR THE DAY\n",
    "### SAVE RESULTS ### \n",
    "############################################\n",
    "############################################\n",
    "date = \"Apr11\"\n",
    "test_name = \"Ns_test\"\n",
    "testnumber = \"1\"  # use this to distingush multiple test runs of the same thing\n",
    "description = \"acc10test\"\n",
    "lastvisited = \"Apr9\" # update to today after you exit this code for the day. \n",
    "\n",
    "### Advanced settings\n",
    "include_mass_radius = False\n",
    "include_points = True\n",
    "include_date = True\n",
    "Final_Results = False # Only switch this on if you are producing a nice, final plot. \n",
    "############################################\n",
    "############################################\n",
    "description = description + testnumber\n",
    "file_loc = \"test_results/\"\n",
    "\n",
    "if date == lastvisited:\n",
    "    raise ValueError(\"\\n************************\\nWarning: You may have the wrong date. To prevent saving images to the wrong folder, please create a new folder and update to today's date.\\n************************\\n\")\n",
    "    \n",
    "### Add values onto the name of the file \n",
    "for i in stars:\n",
    "    pts = \"\"\n",
    "    if include_points:\n",
    "        pts = str(i.num_points)\n",
    "    if include_mass_radius:\n",
    "        star_names = [i.tag + \"_m\" + str(i.mass)  + \"_r\"+ str(i.radius) +\"-\"+ pts for i in stars]    \n",
    "    else:\n",
    "        star_names = [i.tag + \"-\" + str(i.num_points) for i in stars]\n",
    "\n",
    "star_names = \"__\".join(star_names)\n",
    "star_names = star_names + \"--\" + description\n",
    "if Final_Results: \n",
    "    file_loc = 'final_results/'\n",
    "    description = description + '_final'\n",
    "date_ = date\n",
    "if not include_date: \n",
    "    date_ = \"\"\n",
    "print(\"\\n\\nCURRENT FOLDER NAME: \", file_loc+date + \"/\" + star_names)\n",
    "print(\"\\n run the codeblock below to save the plots\")"
   ]
  },
  {
   "cell_type": "code",
   "execution_count": null,
   "metadata": {},
   "outputs": [],
   "source": [
    "#### Copy and paste your working code from 1a and uncomment this line\n",
    "# plt.savefig(file_loc + date + \"/\" + star_names + \"/\"+ test_name + date + '_' + str(timestep) + \".png\")\n",
    "\n",
    "dt = 0.05\n",
    "T = 1\n",
    "acc = 10\n",
    "for timestep in range(int(T/dt)):\n",
    "    ns2[0].shift(acc) # shifting the star at each timestep\n",
    "    plot(both, 7,7)\n",
    "    plt.savefig(file_loc + date + \"/\" + star_names + \"/\"+ test_name + date_ + '_' + str(timestep) + \".png\")"
   ]
  },
  {
   "cell_type": "markdown",
   "metadata": {},
   "source": [
    "# Working Animation Code"
   ]
  },
  {
   "cell_type": "code",
   "execution_count": 4,
   "metadata": {},
   "outputs": [
    {
     "ename": "AttributeError",
     "evalue": "'float' object has no attribute 'P'",
     "output_type": "error",
     "traceback": [
      "\u001b[1;31m---------------------------------------------------------------------------\u001b[0m",
      "\u001b[1;31mAttributeError\u001b[0m                            Traceback (most recent call last)",
      "\u001b[1;32m<ipython-input-4-8ed585e70ad3>\u001b[0m in \u001b[0;36m<module>\u001b[1;34m\u001b[0m\n\u001b[0;32m      2\u001b[0m \u001b[1;33m\u001b[0m\u001b[0m\n\u001b[0;32m      3\u001b[0m \u001b[0meos\u001b[0m \u001b[1;33m=\u001b[0m \u001b[0mEOS\u001b[0m\u001b[1;33m(\u001b[0m\u001b[1;34m'standard'\u001b[0m\u001b[1;33m)\u001b[0m\u001b[1;33m\u001b[0m\u001b[1;33m\u001b[0m\u001b[0m\n\u001b[1;32m----> 4\u001b[1;33m \u001b[0mstar_1\u001b[0m \u001b[1;33m=\u001b[0m \u001b[0mNS\u001b[0m\u001b[1;33m(\u001b[0m\u001b[1;34m\"star_1\"\u001b[0m\u001b[1;33m,\u001b[0m\u001b[1;36m0.5\u001b[0m\u001b[1;33m,\u001b[0m\u001b[1;36m0.5\u001b[0m\u001b[1;33m)\u001b[0m\u001b[1;33m\u001b[0m\u001b[1;33m\u001b[0m\u001b[0m\n\u001b[0m\u001b[0;32m      5\u001b[0m \u001b[0mstar_2\u001b[0m \u001b[1;33m=\u001b[0m \u001b[0mNS\u001b[0m\u001b[1;33m(\u001b[0m\u001b[1;34m\"star_2\"\u001b[0m\u001b[1;33m,\u001b[0m\u001b[1;36m0.5\u001b[0m\u001b[1;33m,\u001b[0m\u001b[1;36m0.5\u001b[0m\u001b[1;33m)\u001b[0m\u001b[1;33m\u001b[0m\u001b[1;33m\u001b[0m\u001b[0m\n\u001b[0;32m      6\u001b[0m \u001b[0mstar_2\u001b[0m\u001b[1;33m.\u001b[0m\u001b[0mpos\u001b[0m \u001b[1;33m+=\u001b[0m \u001b[1;36m400\u001b[0m\u001b[1;33m\u001b[0m\u001b[1;33m\u001b[0m\u001b[0m\n",
      "\u001b[1;32m~\\Documents\\GitHub\\spring_23_computational\\Neutron_Star_SPH_NS.ipynb\u001b[0m in \u001b[0;36m__init__\u001b[1;34m(self, tag, eos, mass, radius, num_points, h, nu)\u001b[0m\n\u001b[0;32m    113\u001b[0m     \u001b[1;34m\"        #A point has the following attributes: \\n\"\u001b[0m\u001b[1;33m,\u001b[0m\u001b[1;33m\u001b[0m\u001b[1;33m\u001b[0m\u001b[0m\n\u001b[0;32m    114\u001b[0m     \u001b[1;34m\"        #    - position (N x 3), vel (N x 3), acc (N x 3), density (N x 1), pressure (N x 1).        \\n\"\u001b[0m\u001b[1;33m,\u001b[0m\u001b[1;33m\u001b[0m\u001b[1;33m\u001b[0m\u001b[0m\n\u001b[1;32m--> 115\u001b[1;33m     \u001b[1;34m\"        # Star properties\\n\"\u001b[0m\u001b[1;33m,\u001b[0m\u001b[1;33m\u001b[0m\u001b[1;33m\u001b[0m\u001b[0m\n\u001b[0m\u001b[0;32m    116\u001b[0m     \u001b[1;34m\"        self.tag = tag # \\\"Name\\\" of the star, just a string for identification\\n\"\u001b[0m\u001b[1;33m,\u001b[0m\u001b[1;33m\u001b[0m\u001b[1;33m\u001b[0m\u001b[0m\n\u001b[0;32m    117\u001b[0m     \u001b[1;34m\"        self.radius = radius # star radius in km\\n\"\u001b[0m\u001b[1;33m,\u001b[0m\u001b[1;33m\u001b[0m\u001b[1;33m\u001b[0m\u001b[0m\n",
      "\u001b[1;32m~\\Documents\\GitHub\\spring_23_computational\\Neutron_Star_SPH_NS.ipynb\u001b[0m in \u001b[0;36mgetAcc\u001b[1;34m(star)\u001b[0m\n\u001b[0;32m     47\u001b[0m    \"source\": [\n\u001b[0;32m     48\u001b[0m     \u001b[1;34m\"# Neutron Star Class Code\"\u001b[0m\u001b[1;33m\u001b[0m\u001b[1;33m\u001b[0m\u001b[0m\n\u001b[1;32m---> 49\u001b[1;33m    ]\n\u001b[0m\u001b[0;32m     50\u001b[0m   },\n\u001b[0;32m     51\u001b[0m   {\n",
      "\u001b[1;31mAttributeError\u001b[0m: 'float' object has no attribute 'P'"
     ]
    }
   ],
   "source": [
    "# Initialize points\n",
    "\n",
    "eos = EOS('standard')\n",
    "star_1 = NS(\"star_1\",0.5,0.5)\n",
    "star_2 = NS(\"star_2\",0.5,0.5)\n",
    "star_2.pos += 400\n",
    "\n",
    "# The goal of this is to create an animation with two stars in 3D, moving.\n",
    "EndTime = 20\n",
    "\n",
    "num_points1 = star_1.num_points\n",
    "num_points2 = star_2.num_points\n",
    "\n",
    "a = np.concatenate((star_1.pos,star_2.pos)) # start off array of points with just the initial star locations.\n",
    "# add new star positions\n",
    "L = [star_1.pos+5,star_2.pos-5, star_1.pos+10,star_2.pos-10,star_1.pos+15,star_2.pos-15,star_1.pos+20,star_2.pos-20]\n",
    "for l in L:\n",
    "    a = np.concatenate((a,l)) # Array of data to plot. len(a) by 3 dimensions.\n",
    "\n",
    "points_count = len(a) # Total number of points in the entire simulation\n",
    "points_per_timestep = num_points1 + num_points2# we need to assign the first set of points, (num_points1 + num_points2) points to the same timestep in the movie\n",
    "t = np.array([np.ones(points_per_timestep)*i for i in range(int(points_count/points_per_timestep))]).flatten() # an array counting from 0 to 19. Each number repeats 100 times.\n",
    "df = pd.DataFrame({\"time\": t ,\"x\" : a[:,0], \"y\" : a[:,1], \"z\" : a[:,2]})\n",
    "\n",
    "def update_graph(num):\n",
    "    data=df[df['time']==num]\n",
    "    graph._offsets3d = (data.x, data.y, data.z)\n",
    "    title.set_text('3D Test, time={}'.format(num))\n",
    "    \n",
    "fig = plt.figure()\n",
    "ax = fig.add_subplot(111, projection='3d')\n",
    "title = ax.set_title('NS Test')\n",
    "data=df[df['time']==0]\n",
    "graph = ax.scatter(data.x, data.y, data.z)\n",
    "ani = matplotlib.animation.FuncAnimation(fig, update_graph, EndTime, \n",
    "                               interval=10, blit=False)\n",
    "plt.show()\n",
    "print(df)"
   ]
  },
  {
   "cell_type": "code",
   "execution_count": null,
   "metadata": {},
   "outputs": [],
   "source": [
    "ani.save(\"working_animation_code-ns-test.mp4\") # Save animation"
   ]
  },
  {
   "cell_type": "code",
   "execution_count": null,
   "metadata": {},
   "outputs": [],
   "source": [
    "# def plot(stars,x_lim = 50, y_lim = 50,fig_size=(4,5), dpi_ = 300, gridspecs=[3,1], fig=None, ax=None, density_plot = False):\n",
    "#     \"\"\" Takes in any number of stas and plots their points. \"\"\"\n",
    "#     if fig == None: \n",
    "#         fig = plt.figure(figsize=fig_size, dpi=dpi_)\n",
    "#         grid = plt.GridSpec(gridspecs[0], gridspecs[1], wspace=0.0, hspace=0.3)\n",
    "#     if ax == None:\n",
    "#         ax1 = plt.subplot(grid[0:2,0])\n",
    "#         if density_plot:\n",
    "#             ax2 = plt.subplot(grid[2,0])# for second plot\n",
    "            \n",
    "#     plt.sca(ax1)\n",
    "#     plt.cla()\n",
    "#     title = \"\"\n",
    "#     for i in range(len(stars)):\n",
    "#         star = stars[i]\n",
    "#         pos = star.pos\n",
    "#         rho = star.rho\n",
    "#         cval = np.minimum((rho-3)/3,1).flatten()\n",
    "#         plt.scatter(pos[:,0],pos[:,1], c=cval, cmap=plt.cm.autumn, s=10, alpha=0.5)\n",
    "#         title = title + str(star)\n",
    "        \n",
    "#     ax1.set(xlim=(-x_lim, x_lim), ylim=(-y_lim, y_lim))\n",
    "#     ax1.set_aspect('equal', 'box')\n",
    "#     ax1.set_facecolor('black')\n",
    "#     ax1.set_facecolor((.1,.1,.1))\n",
    "\n",
    "#     plt.title(str(title))\n",
    "#     plt.xlabel(\"km\")\n",
    "#     plt.ylabel(\"km\")\n",
    "#     return None\n",
    "\n",
    "\n",
    "# def plot_update_Erin(stars, x_lim = 50, y_lim = 50,fig_size=(4,5), dpi_ = 300, gridspecs=[3,1], fig=None, ax=None, density_plot = False):\n",
    "#     \"\"\" Takes in any number of stas and plots their points. \"\"\"\n",
    "#     if fig == None: \n",
    "#         fig = plt.figure(figsize=fig_size, dpi=dpi_)\n",
    "#         grid = plt.GridSpec(gridspecs[0], gridspecs[1], wspace=0.0, hspace=0.3)\n",
    "#     if ax == None:\n",
    "#         ax1 = plt.subplot(grid[0:2,0])\n",
    "#         if density_plot:\n",
    "#             ax2 = plt.subplot(grid[2,0])# for second plot\n",
    "#     else:\n",
    "#         ax1=ax\n",
    "\n",
    "        \n",
    "#     rr = np.zeros((100,3))\n",
    "#     rlin = np.linspace(0,1,100)\n",
    "#     rr[:,0] =rlin\n",
    "#     plt.sca(ax1)\n",
    "#     plt.cla()\n",
    "#     title = \"\"\n",
    "#     for i in range(len(stars)):\n",
    "#         star = stars[i]\n",
    "#         pos = star.pos[:]\n",
    "#         rho = star.rho\n",
    "#         cval = np.minimum((rho-3)/3,1).flatten()\n",
    "#         plt.scatter(pos[:,0],pos[:,1], c=cval, cmap=plt.cm.autumn, s=10, alpha=0.5)\n",
    "#         title = title + str(star)\n",
    "        \n",
    "#     ax1.set(xlim=(-x_lim, x_lim), ylim=(-y_lim, y_lim))\n",
    "#     ax1.set_aspect('equal', 'box')\n",
    "#     ax1.set_facecolor('black')\n",
    "#     ax1.set_facecolor((.1,.1,.1))\n",
    "\n",
    "#     plt.title(str(title))\n",
    "#     plt.xlabel(\"km\")\n",
    "#     plt.ylabel(\"km\")\n",
    "    \n",
    "# # # density plot\n",
    "# #     rho_analytic = lmbda/(4*k) * (R**2 - rlin**2)\n",
    "# #     if density_plot:\n",
    "# #         plt.sca(ax2)\n",
    "# #         plt.cla()\n",
    "# #         ax2.set(xlim=(0, 1), ylim=(0, 3))\n",
    "# #         ax2.set_aspect(0.1)\n",
    "# #         plt.plot(rlin, rho_analytic, color='gray', linewidth=2)\n",
    "# #         rho_radial = getDensity( rr, pos, m, h )\n",
    "# #         plt.plot(rlin, rho_radial, color='blue')\n",
    "# #         plt.pause(0.001)\n",
    "#     return None\n",
    "\n",
    "\n",
    "# Saved the code from the density plot, in case we want to use it. \n",
    "\n",
    "# # density plot\n",
    "#     rho_analytic = lmbda/(4*k) * (R**2 - rlin**2)\n",
    "#     rr = np.zeros((100,3))\n",
    "#     rlin = np.linspace(0,1,100)\n",
    "#     rr[:,0] =rlin\n",
    "\n",
    "#     if density_plot:\n",
    "#         plt.sca(ax2)\n",
    "#         plt.cla()\n",
    "#         ax2.set(xlim=(0, 1), ylim=(0, 3))\n",
    "#         ax2.set_aspect(0.1)\n",
    "#         plt.plot(rlin, rho_analytic, color='gray', linewidth=2)\n",
    "#         rho_radial = getDensity( rr, pos, m, h )\n",
    "#         plt.plot(rlin, rho_radial, color='blue')\n",
    "#         plt.pause(0.001)\n",
    "\n"
   ]
  }
 ],
 "metadata": {
  "kernelspec": {
   "display_name": "Python 3",
   "language": "python",
   "name": "python3"
  },
  "language_info": {
   "codemirror_mode": {
    "name": "ipython",
    "version": 3
   },
   "file_extension": ".py",
   "mimetype": "text/x-python",
   "name": "python",
   "nbconvert_exporter": "python",
   "pygments_lexer": "ipython3",
   "version": "3.8.3"
  }
 },
 "nbformat": 4,
 "nbformat_minor": 5
}
