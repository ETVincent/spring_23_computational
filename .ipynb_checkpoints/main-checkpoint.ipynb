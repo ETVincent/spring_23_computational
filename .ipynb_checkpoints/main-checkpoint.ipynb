{
 "cells": [
  {
   "cell_type": "code",
   "execution_count": 1,
   "metadata": {},
   "outputs": [],
   "source": [
    "import numpy as np\n",
    "import matplotlib.pyplot as plt\n",
    "from scipy.special import gamma\n",
    "import time\n",
    "import math\n",
    "import matplotlib as mp\n",
    "import scipy as sp\n",
    "import pylab as py\n",
    "import os\n",
    "import matplotlib.animation as animation\n",
    "\n",
    "plt.rcParams['axes.grid'] = True\n",
    "plt.rcParams['animation.html'] = 'html5'\n",
    "plt.style.use('dark_background')"
   ]
  },
  {
   "cell_type": "code",
   "execution_count": 2,
   "metadata": {},
   "outputs": [],
   "source": [
    "# import from other files \n",
    "from ipynb.fs.full.Neutron_Star_SPH_sph import W, gradW, getPairwiseSeparations, getDensity\n",
    "from ipynb.fs.full.Neutron_Star_SPH_eos import *\n",
    "from ipynb.fs.full.Neutron_Star_SPH_NS import *\n",
    "from ipynb.fs.full.NS_dynamics import *\n",
    "from ipynb.fs.full.simulate import simulate_NS;"
   ]
  },
  {
   "cell_type": "code",
   "execution_count": 3,
   "metadata": {},
   "outputs": [],
   "source": [
    "# Constants defined \n",
    "G = 6.67259e-11  # (km**3/kg/s**2)\n",
    "c= 3e8 #m/sec\n",
    "Ms = 1.98847e30 # solar mass in kg\n",
    "\n",
    "d = 1.5e11\n",
    "ev = (2*3.14159*d/(365*24*60*60)) "
   ]
  },
  {
   "cell_type": "code",
   "execution_count": null,
   "metadata": {},
   "outputs": [],
   "source": []
  }
 ],
 "metadata": {
  "kernelspec": {
   "display_name": "Python 3",
   "language": "python",
   "name": "python3"
  },
  "language_info": {
   "codemirror_mode": {
    "name": "ipython",
    "version": 3
   },
   "file_extension": ".py",
   "mimetype": "text/x-python",
   "name": "python",
   "nbconvert_exporter": "python",
   "pygments_lexer": "ipython3",
   "version": "3.8.3"
  }
 },
 "nbformat": 4,
 "nbformat_minor": 4
}
