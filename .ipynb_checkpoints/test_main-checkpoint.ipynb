{
 "cells": [
  {
   "cell_type": "code",
   "execution_count": 8,
   "metadata": {
    "scrolled": true
   },
   "outputs": [],
   "source": [
    "import numpy as np\n",
    "import matplotlib.pyplot as plt\n",
    "from scipy.special import gamma\n",
    "import time\n",
    "import math\n",
    "import matplotlib as mp\n",
    "import scipy as sp\n",
    "import pylab as py\n",
    "from mpl_toolkits.mplot3d import Axes3D\n",
    "import matplotlib.animation\n",
    "import pandas as pd\n",
    "import os\n",
    "\n",
    "plt.rcParams['animation.html'] = 'html5'\n",
    "\n",
    "from ipynb.fs.full.Neutron_Star_SPH_sph import *;\n",
    "from ipynb.fs.full.Neutron_Star_SPH_eos import *;\n",
    "from ipynb.fs.full.NS_dynamics import *\n",
    "from ipynb.fs.full.Neutron_Star_SPH_NS import NS,get_file_info;\n",
    "from ipynb.fs.full.simulate import simulate_NS;"
   ]
  },
  {
   "cell_type": "markdown",
   "metadata": {},
   "source": [
    "# Test Main"
   ]
  },
  {
   "cell_type": "markdown",
   "metadata": {},
   "source": [
    "### Test simulation of one star for a chosen timestep.\n",
    "- Automatically generates file"
   ]
  },
  {
   "cell_type": "code",
   "execution_count": null,
   "metadata": {},
   "outputs": [],
   "source": [
    "###------------------------------------------------######------------------------------------------------###\n",
    " ### MULTIPLE PARAMETERS (AUTOMATIC) ### \n",
    "eos_tag = \"standard\"\n",
    "dt = 1 # seconds\n",
    "tEnd = 14 # seconds\n",
    "M = [1] # SMs\n",
    "R =[10]#[10,15,20] # km\n",
    "Points_ = [600] # sph points\n",
    "H_ = [\"eta(m/rho)^0.3\"] # smoothing length\n",
    "Nu_ = [10] # artificial viscosity\n",
    "lt = \"vanilla\" # Lagrangian formulation tag\n",
    "kt = \"wendland_2\" # Kernel type\n",
    "eta = 1e-1\n",
    "cl = 1e35 # scale factor for lambda, an artificial potential energy.\n",
    "\n",
    "G = -6e-30\n",
    "for m in M:\n",
    "    for r in R:\n",
    "        for points_ in Points_:\n",
    "            for nu_ in Nu_:\n",
    "                # Animation File Specifications \n",
    "                date = \"Apr22\"\n",
    "                trial = \"4\"\n",
    "                notes = \"Smoothing length varies with particles\"\n",
    "                spec = \"nu_test\"\n",
    "                folder1 = \"\"\n",
    "                folder2 = \"r=\" +str(r)+\",m=\"+str(m)+\"nu=\"+str(nu_) + \"_eta\" + str(eta)\n",
    "                folder = folder1 # + \"/\" + folder2 ## Save animation and output a file containing info about the animation.\n",
    "                simulate_NS(eos_tag,dt,tEnd,m,r,points_,nu_,lt,kt,date,trial,notes=notes,specs = spec,folder_name=folder,eta_=eta,g_test_=G)"
   ]
  },
  {
   "cell_type": "markdown",
   "metadata": {},
   "source": [
    "## Radius vs Time\n",
    "- Block below plots a random particle distance from origin as a function of timestep. \n",
    "- This will automate testing various parameters so you can just look at the output results.\n",
    "\n"
   ]
  },
  {
   "cell_type": "code",
   "execution_count": null,
   "metadata": {},
   "outputs": [],
   "source": [
    "dt = 0.1\n",
    "tEnd=1\n",
    "eos_tag = \"standard\"\n",
    "M = [1,10] # SMs\n",
    "R =[10,20]#[10,15,20] # km\n",
    "Points_ = [150] # sph points\n",
    "H_ = [\"eta(m/rho)^0.3\"] # smoothing length\n",
    "Nu_ = [4] # artificial viscosity\n",
    "lt = \"vanilla\" # Lagrangian formulation tag\n",
    "kt = \"wendland_2\" # Kernel type\n",
    "eta = [100,10,1,0.1,1e-3,1e-5]\n",
    "cl = [1,10,0.001] # scale factor for lambda, an artificial potential energy.\n",
    "dpi_ = 200\n",
    "dfs = []\n",
    "for m in M:\n",
    "    for r in R:\n",
    "        for points_ in Points_:\n",
    "            for nu_ in Nu_:\n",
    "                date = \"Apr22\"\n",
    "                trial = \"4\"\n",
    "                notes = \"Smoothing length varies with particles\"\n",
    "                spec = \"nu_test\"\n",
    "                folder1 = \"\"\n",
    "                folder2 = \"r=\" +str(r)+\",m=\"+str(m)+\"nu=\"+str(nu_) + \"_eta\" + str(eta)\n",
    "                folder = folder1 # + \"/\" + folder2 ## Save animation and output a file containing info about the animation.\n",
    "                eos = EOS(eos_tag) # INITIALIZE EOS\n",
    "                NS_ = NS(\"mystar\", eos,mass = m,radius = r,num_points = points_,nu=nu_,lagrange_tag=lt,kernel_type=kt,eta=eta_,clmbda=cl) # INITIALIZE NS\n",
    "                data = dfs[0]\n",
    "                data[\"r\"] = data[\"x\"]**2 + data[\"y\"]**2 + data[\"z\"]**2                   \n",
    "                plt.scatter(data['time'], data['xmax'])\n",
    "                plt.savefig(\"point_track_\" +str(m)+str(r)+str(lt)+str(eta)+str(cl)+str(nu_) +\".png\",dpi = dpi_) # Depending on whether you use IPython or interactive mode, etc."
   ]
  },
  {
   "cell_type": "markdown",
   "metadata": {},
   "source": [
    "## Animate"
   ]
  },
  {
   "cell_type": "code",
   "execution_count": 2,
   "metadata": {},
   "outputs": [
    {
     "name": "stdout",
     "output_type": "stream",
     "text": [
      "-------success!\n",
      " \n",
      "STAR OBJECT. Name: 'star_1', Mass: 0.5 SMs, Radius: 1 km \n",
      "\n",
      "-------success!\n",
      " \n",
      "STAR OBJECT. Name: 'star_2', Mass: 0.5 SMs, Radius: 1 km \n",
      "\n"
     ]
    }
   ],
   "source": [
    "M1 = 0.5\n",
    "M2 = 0.5\n",
    "R1 = 1\n",
    "R2 = 1\n",
    "\n",
    "eos = EOS('standard')\n",
    "star_1 = NS(\"star_1\", eos,M1,R1)\n",
    "star_2 = NS(\"star_2\", eos,M2,R2)"
   ]
  },
  {
   "cell_type": "code",
   "execution_count": 3,
   "metadata": {},
   "outputs": [],
   "source": [
    "# =================== Simulation Specs for the animation ================== # \n",
    "end_time = 2200 # amount of time that the simulation runs (seconds)\n",
    "time_per_timestep = 1 # the amount of time, in seconds, that goes by in 1 timestep.\n",
    "EndTimeStep = 10 #end_time/time_per_timestep # number of timesteps of the animation"
   ]
  },
  {
   "cell_type": "code",
   "execution_count": 10,
   "metadata": {},
   "outputs": [
    {
     "name": "stdout",
     "output_type": "stream",
     "text": [
      "Sucessfully updated and stored star locations.\n",
      "\n",
      "Sucessfully made plotting dataframe: \n",
      "\n",
      "      time          x          y          z\n",
      "0      0.0 -10.134916 -10.440311 -10.313953\n",
      "1      0.0 -11.423424  -9.693979  -9.785841\n",
      "2      0.0 -11.554880 -10.729978  -9.536013\n",
      "3      0.0  -9.644915 -10.905038 -10.167813\n",
      "4      0.0 -10.257597  -7.947564  -8.462239\n",
      "...    ...        ...        ...        ...\n",
      "2195  10.0   0.846633  -0.825879  -1.558539\n",
      "2196  10.0  -1.280211  -1.226091  -0.916233\n",
      "2197  10.0  -0.621612  -0.196345  -1.706169\n",
      "2198  10.0  -1.333152  -0.206732  -1.830264\n",
      "2199  10.0  -1.323020  -1.795324  -1.665969\n",
      "\n",
      "[2200 rows x 4 columns]\n"
     ]
    },
    {
     "data": {
      "image/png": "[encoded data removed]",
      "text/plain": [
       "<Figure size 432x288 with 1 Axes>"
      ]
     },
     "metadata": {},
     "output_type": "display_data"
    }
   ],
   "source": [
    "star1_com = np.array([-10,-10,-10]) # km \n",
    "star2_com = np.array([-1,-1,-1])# km \n",
    "star_1.move_com([-10,-10,-10])\n",
    "star_2.move_com([-1,-1,-1])\n",
    "\n",
    "# ============== Takes in a list of center of mass positions ============== #\n",
    "star1_list = [np.asarray(star1_com)*i*0.001 for i in range(int(EndTimeStep))]\n",
    "star2_list = [np.asarray(star2_com)*(10-i) for i in range(int(EndTimeStep))]\n",
    "\n",
    "if len(star1_list) != int(EndTimeStep):\n",
    "    raise ValueError(\"List of center of mass positions for the first star does not match number of timesteps\")\n",
    "if len(star2_list) != int(EndTimeStep):\n",
    "    raise ValueError(\"List of center of mass positions for the second star does not match number of timesteps\")\n",
    "if len(star1_list[0]) != 3:\n",
    "    raise ValueError(\"Center of mass coordinates must have dimension 3\")\n",
    "if len(star2_list[0]) != 3:\n",
    "    raise ValueError(\"Center of mass coordinates must have dimension 3\")\n",
    "# ========================================================================= # \n",
    "# The next few blocks creates an animation with the two stars in 3D.\n",
    "\n",
    "star1_pos = star_1.getPosition()\n",
    "star2_pos = star_2.getPosition()\n",
    "a = np.concatenate((star1_pos,star2_pos)) # start off array of points with just the initial star locations.\n",
    "\n",
    "# Update the Neutron Star points locations...\n",
    "for t in range(int(EndTimeStep)): # for every timestep in the simulation\n",
    "        # -- 0. Update the location of the center of mass -- #\n",
    "    star_1.move_com(star1_list[t]) # move the stars to their COM locations\n",
    "    star_2.move_com(star2_list[t])\n",
    "        # -- 2. update the positions, velocities, and accelerations for this timestep. -- #\n",
    "    pos1 = star_1.getPosition() # just updating the point locations for now.\n",
    "    pos2 = star_2.getPosition()\n",
    "    ### Output Current Star Point positions to pandas dataframe for plotting\n",
    "    a = np.concatenate((a,pos1)) # add the new star positions for this timestep to the outputed data array for star 1\n",
    "    a = np.concatenate((a,pos2))# add the new star positions for this timestep to the outputed data array for star 2\n",
    "    \n",
    "print(\"Sucessfully updated and stored star locations.\")\n",
    "\n",
    "num_points1 = star_1.num_points \n",
    "num_points2 = star_2.num_points\n",
    "points_per_timestep = num_points1 + num_points2 # we need to assign the first set of points, (num_points1 + num_points2) points to the same timestep in the movie\n",
    "\n",
    "points_count = len(a) # Total number of points in the entire simulation\n",
    "t = np.array([np.ones(points_per_timestep)*i for i in range(int(points_count/points_per_timestep))]).flatten() # an array counting from 0 to 19. Each number repeats 100 times.\n",
    "df = pd.DataFrame({\"time\": t ,\"x\" : a[:,0], \"y\" : a[:,1], \"z\" : a[:,2]})\n",
    "print(\"\\nSucessfully made plotting dataframe: \\n\")\n",
    "print(df)\n",
    "\n",
    "def update_graph(num):\n",
    "    data=df[df['time']==num]\n",
    "    graph._offsets3d = (data.x, data.y, data.z)\n",
    "    title.set_text('NS Test, time={}'.format(num))\n",
    "    \n",
    "fig = plt.figure()\n",
    "ax = fig.add_subplot(111, projection='3d')\n",
    "title = ax.set_title('NS Test')\n",
    "data=df[df['time']==0]\n",
    "graph = ax.scatter(data.x, data.y, data.z)\n",
    "ani = matplotlib.animation.FuncAnimation(fig, update_graph, int(EndTimeStep), interval=10, blit=False)\n",
    "plt.show()"
   ]
  },
  {
   "cell_type": "code",
   "execution_count": 7,
   "metadata": {},
   "outputs": [],
   "source": [
    "ani.save(\"motion_test.mp4\") # Save animation"
   ]
  },
  {
   "cell_type": "code",
   "execution_count": null,
   "metadata": {},
   "outputs": [],
   "source": [
    "# ============== Takes in a list of center of mass positions ============== #\n",
    "star1_list, star2_list = orbit(star_1, star_2)\n",
    "star1_com = star1_list[0] # km \n",
    "star2_com = star2_list[0] # km \n",
    "\n",
    "if len(star1_list) != int(EndTimeStep):\n",
    "    raise ValueError(\"List of center of mass positions for the first star does not match number of timesteps\")\n",
    "if len(star2_list) != int(EndTimeStep):\n",
    "    raise ValueError(\"List of center of mass positions for the second star does not match number of timesteps\")\n",
    "if len(star1_list[0]) != 3:\n",
    "    raise ValueError(\"Center of mass coordinates must have dimension 3\")\n",
    "if len(star2_list[0]) != 3:\n",
    "    raise ValueError(\"Center of mass coordinates must have dimension 3\")\n",
    "# ========================================================================= # \n",
    "# The next few blocks creates an animation with the two stars in 3D.\n",
    "\n",
    "star1_pos = star_1.getPosition()\n",
    "star2_pos = star_2.getPosition()\n",
    "a = np.concatenate((star1_pos,star2_pos)) # start off array of points with just the initial star locations.\n",
    "\n",
    "# Update the Neutron Star points locations...\n",
    "for t in range(int(EndTimeStep)): # for every timestep in the simulation\n",
    "        # -- 0. Update the location of the center of mass -- #\n",
    "    star_1.move_com(star1_list[t]) # move the stars to their COM locations\n",
    "    star_2.move_com(star2_list[t])\n",
    "        # -- 2. update the positions, velocities, and accelerations for this timestep. -- #\n",
    "    pos1 = star_1.getPosition() # just updating the point locations for now.\n",
    "    pos2 = star_2.getPosition()\n",
    "    ### Output Current Star Point positions to pandas dataframe for plotting\n",
    "    a = np.concatenate((a,pos1)) # add the new star positions for this timestep to the outputed data array for star 1\n",
    "    a = np.concatenate((a,pos2))# add the new star positions for this timestep to the outputed data array for star 2\n",
    "    \n",
    "print(\"Sucessfully updated and stored star locations.\")\n",
    "\n",
    "num_points1 = star_1.num_points \n",
    "num_points2 = star_2.num_points\n",
    "points_per_timestep = num_points1 + num_points2 # we need to assign the first set of points, (num_points1 + num_points2) points to the same timestep in the movie\n",
    "\n",
    "points_count = len(a) # Total number of points in the entire simulation\n",
    "t = np.array([np.ones(points_per_timestep)*i for i in range(int(points_count/points_per_timestep))]).flatten() # an array counting from 0 to 19. Each number repeats 100 times.\n",
    "df = pd.DataFrame({\"time\": t ,\"x\" : a[:,0], \"y\" : a[:,1], \"z\" : a[:,2]})\n",
    "print(\"\\nSucessfully made plotting dataframe: \\n\")\n",
    "print(df)\n",
    "\n",
    "def update_graph(num):\n",
    "    data=df[df['time']==num]\n",
    "    graph._offsets3d = (data.x, data.y, data.z)\n",
    "    title.set_text('NS Test, time={}'.format(num))\n",
    "    \n",
    "fig, ax = plt.subplots()\n",
    "#ax = fig.add_subplot(111, projection='3d')\n",
    "title = ax.set_title('NS Test')\n",
    "data=df[df['time']==0]\n",
    "graph = ax.scatter(data.x, data.y)\n",
    "ani = matplotlib.animation.FuncAnimation(fig, update_graph, int(EndTimeStep), interval=10, blit=False)\n",
    "plt.show()"
   ]
  },
  {
   "cell_type": "code",
   "execution_count": null,
   "metadata": {},
   "outputs": [],
   "source": [
    "# ani.save(\"ns-test.mp4\") # Save animation"
   ]
  }
 ],
 "metadata": {
  "kernelspec": {
   "display_name": "Python 3",
   "language": "python",
   "name": "python3"
  },
  "language_info": {
   "codemirror_mode": {
    "name": "ipython",
    "version": 3
   },
   "file_extension": ".py",
   "mimetype": "text/x-python",
   "name": "python",
   "nbconvert_exporter": "python",
   "pygments_lexer": "ipython3",
   "version": "3.8.3"
  }
 },
 "nbformat": 4,
 "nbformat_minor": 5
}
