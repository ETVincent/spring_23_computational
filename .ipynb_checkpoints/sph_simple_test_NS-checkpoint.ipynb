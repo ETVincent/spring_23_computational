{
 "cells": [
  {
   "cell_type": "markdown",
   "metadata": {},
   "source": [
    "# SPH TESTING\n",
    "\n",
    "Code based on the tutorials here: \n",
    "\n",
    "https://philip-mocz.medium.com/create-your-own-smoothed-particle-hydrodynamics-simulation-with-python-76e1cec505f1\n",
    "\n",
    "https://github.com/zaman13/Modeling-of-Neutron-Stars/\n",
    "\n",
    "### Notes: \n",
    "- Calculates density from mass times the gradient of the smoothing function.\n",
    "- Defines 3D Gausssian Smoothing kernel \n",
    "- Euler's Method for iterating pressure, density as a function of distance\n"
   ]
  },
  {
   "cell_type": "code",
   "execution_count": 1,
   "metadata": {},
   "outputs": [],
   "source": [
    "import numpy as np\n",
    "import matplotlib.pyplot as plt\n",
    "from scipy.special import gamma\n",
    "import time\n",
    "import math\n",
    "import matplotlib as mp\n",
    "import scipy as sp\n",
    "import pylab as py\n",
    "\n",
    "def W(x,y,z,h):\n",
    "    \"\"\" Defined Gausssian Smoothing kernel (3D).\n",
    "    (x is a vector/matrix of x positions, y is a vector/matrix of y positions. \n",
    "    z is a vector/matrix of z positions, h is smoothing length, w is the evaluated smoothing function.) \"\"\"\n",
    "    r = np.sqrt(x**2 + y**2 + z**2) \n",
    "    return (1.0 / (h*np.sqrt(np.pi)))**3 * np.exp( -r**2 / h**2) # return w\n",
    "    \n",
    "def gradW(x,y,z,h):\n",
    "    \"\"\" Gradient of smoothing kernel. \n",
    "    (x is a vector/matrix of x positions, y is a vector/matrix of y positions,  \n",
    "    z is a vector/matrix of z positions, h is the smoothing length, wx, wy, wz  is the evaluated gradient)\"\"\"\n",
    "    r = np.sqrt(x**2 + y**2 + z**2)  \n",
    "    n = -2 * np.exp( -r**2 / h**2) / h**5 / (np.pi)**(3/2)\n",
    "    return n*x, n*y, n*z  # (gradient in the x, y, and z directions)\n",
    "    \n",
    "def getPairwiseSeparations(ri, rj):\n",
    "    \"\"\" Just finds Cartesian Pairwise Separations between 2 points. ri is an M x 3 matrix of positions, rj    is an N x 3 matrix of positions dx, dy, dz   are M x N matrices of separations. \"\"\"\n",
    "    M = ri.shape[0]\n",
    "    N = rj.shape[0]\n",
    "    rix = ri[:,0].reshape((M,1)) # positions ri = (x,y,z)\n",
    "    riy = ri[:,1].reshape((M,1))\n",
    "    riz = ri[:,2].reshape((M,1))\n",
    "    rjx = rj[:,0].reshape((N,1)) # other set of points positions rj = (x,y,z)\n",
    "    rjy = rj[:,1].reshape((N,1))\n",
    "    rjz = rj[:,2].reshape((N,1))\n",
    "    return rix - rjx.T , riy - rjy.T, riz - rjz.T # (dx, dy, dz) # return matrices that store all pairwise particle separations: r_i - r_j\n",
    "\n",
    "def getDensity(r, pos, m, h, mVals = np.asarray([None]), rVals = np.asarray([None])):\n",
    "    \"\"\" Get Density at sampling loctions from SPH particle distribution. \n",
    "    r  is an M x 3 matrix of sampling locations, pos, is an N x 3 matrix of SPH particle positions \n",
    "    m  is the particle mass, h is the smoothing length, rho is M x 1 vector of accelerations. \"\"\"\n",
    "    M = r.shape[0] # number of points.\n",
    "    dx, dy, dz = getPairwiseSeparations(r, pos); # 3 N x N Matrices. Returns the pairwise seperations between the desired sampling points (r) and our particle locations. \n",
    "###############################################################\n",
    "\n",
    "    # Calculate density from mass times the gradient of the smoothing function.\n",
    "    \n",
    "    if mVals.any() == None: # original simulation case. \n",
    "        rho = np.sum( m * W(dx, dy, dz, h), 1 ).reshape((M,1)) # calculates density from m times the gradient of the smoothing function.\n",
    "    else:\n",
    "        rho = np.sum( m * W(dx, dy, dz, h), 1 ).reshape((M,1))\n",
    "        \n",
    "        mVals = get_mVals_from_points(r, pos, dx,dy,dz, h, mVals,rVals)\n",
    "        # scale R values to fit the data\n",
    "        rho = np.sum( mVals * W(dx, dy, dz, h), 1 ).reshape((M,1))  # I'm not sure if mvals locations correspond to the locations where the gradient is being calculated.   \n",
    "        \n",
    "###############################################################\n",
    "    return rho # rho is a M by 1 matrix? good. Each point has a density.\n",
    "\n",
    "def get_mVals_from_points(r, pos, dx,dy,dz, h, mVals,rVals):\n",
    "    \"\"\" \n",
    "    Given r, the radial distance scale (N x 1) and pos, the point coordinates (cartesian)\n",
    "    dx dy dz is a distance separation between the radial distance scale and the corresponding point (nxn each I think?)\n",
    "    \n",
    "    \"\"\"\n",
    "    radial_distances = np.sqrt(pos[:,0]**2 + pos[:,1]**2 + pos[:,2]**2) # r = sqrt(x^2 + y^2 + z^2)\n",
    "    # There should be N radial distances. \n",
    "    \n",
    "    # This is a terrible, rudimentary way of doing this, but for now we're going to use literally the closest point in mvals for m.\n",
    "    l = []\n",
    "    \n",
    "    for idx in range(len(mVals)):\n",
    "        r = idx/len(mVals)*rVals[-1]\n",
    "        l.append(r)\n",
    "    mVals_scaled = []\n",
    "    \n",
    "    for i in range(len(radial_distances)): # use literally the closest point in mvals for m.\n",
    "        x = radial_distances[i]\n",
    "        difference_array = np.absolute(l-x)\n",
    "        ix = difference_array.argmin()\n",
    "        closest_mVal = mVals[ix]\n",
    "        mVals_scaled.append(closest_mVal)\n",
    "\n",
    "    return np.asarray(mVals_scaled)\n",
    "    \n",
    "def getPressure(rho, k, n, Pvals = np.asarray([None])):\n",
    "    \"\"\" Equation of State. rho- vector of densities, k-equation of state constant, n-polytropic index, P-pressure. \"\"\"\n",
    "    if Pvals.any() == None: \n",
    "        P = k * rho**(1+1/n) # This quantity is equal to the pressure. (P = k * rho**(1+1/n))\n",
    "    else:\n",
    "        P = Pvals # I THINK!!!\n",
    "    return P \n",
    "    \n",
    "def getAcc(pos, vel, m,h,k,n, lmbda, nu, Mvals = np.asarray([None]), Nvals = np.asarray([None]),Pvals = np.asarray([None])):\n",
    "    \"\"\" Calculate the acceleration on each SPH particle, 'pos' is an N x 3 matrix of positions, 'vel' is an N x 3 matrix of velocities, m is the particle mass, h is the smoothing length, k is equation of state constant, n is polytropic index, lmbda is external force constant, nu is viscosity, a is N x 3 matrix of accelerations \"\"\" \n",
    "    N = pos.shape[0] # Number of particles\n",
    "    rho = getDensity( pos, pos, m, h , Mvals, Nvals) # Calculate densities at the position of the particles\n",
    "    P = getPressure(rho, k, n, Pvals) # Get the pressures\n",
    "    \n",
    "    dx, dy, dz = getPairwiseSeparations( pos, pos ) # Get pairwise distances\n",
    "    dWx, dWy, dWz = gradW( dx, dy, dz, h )# Get pairwise gradients\n",
    "    \n",
    "    ax = - np.sum( m * ( P/rho**2 + P.T/rho.T**2  ) * dWx, 1).reshape((N,1)) # Add x Pressure contribution to accelerations\n",
    "    ay = - np.sum( m * ( P/rho**2 + P.T/rho.T**2  ) * dWy, 1).reshape((N,1)) # Add y Pressure contribution to accelerations\n",
    "    az = - np.sum( m * ( P/rho**2 + P.T/rho.T**2  ) * dWz, 1).reshape((N,1)) # Add z Pressure contribution to accelerations\n",
    "\n",
    "    a = np.hstack((ax,ay,az)) # pack together the acceleration components\n",
    "    a -= lmbda * pos # Add external potential force\n",
    "    a -= nu * vel # Add viscosity\n",
    "    return a"
   ]
  },
  {
   "cell_type": "code",
   "execution_count": 2,
   "metadata": {},
   "outputs": [],
   "source": [
    "##### Neutron Star Mass (Pressure and Density Iteration) Calculation\n",
    "hc = 197.327                # Conversion factor in MeV fm (hut * c)\n",
    "G = hc * 6.67259e-45        # Gravitational constant\n",
    "Ms = 1.1157467e60\n",
    "rho_s = 1665.3              # Central density (density at r = 0)\n",
    "M0 = (4*3.14159265*(G**3)*rho_s)**(-0.5)\n",
    "R0 = G*M0\n",
    "mn = 938.926                # Mass of neutron in MeV c^-2\n",
    "\n",
    "def rho_Zamman(p):\n",
    "    \"\"\" density from pressure NS, source: https://github.com/zaman13/Modeling-of-Neutron-Stars/ \"\"\"\n",
    "    n = (p*rho_s/363.44)**(1./2.54)\n",
    "    return (236. * n**2.54 + n *mn)/rho_s \n",
    "\n",
    "def dp_dr_Zamman(r,m,p,flag):\n",
    "    \"\"\" pressure dependence on radius NS, source: https://github.com/zaman13/Modeling-of-Neutron-Stars/ \"\"\"\n",
    "    if flag == 0:                              # classical model\n",
    "        y = -m*rho_Zamman(p)/(r**2 + 1e-20)\n",
    "    else:                                      # relativistic model\n",
    "        rh = rho_Zamman(p)                            \n",
    "        y = -(p+rh)*(p*r**3 + m)/(r**2 - 2*m*r + 1e-20)\n",
    "    return y\n",
    "\n",
    "\n",
    "def dm_dr_Zamman(r,m,p):\n",
    "    \"\"\" Mass dependence on radius. \"\"\"\n",
    "    return rho_Zamman(p)*r**2\n",
    "\n",
    "def EulerSolver(r,m,p,h,flag):\n",
    "    \"\"\" Euler Solver which iterates P and mass\"\"\"\n",
    "    y = np.zeros(2)\n",
    "    y[0] = m + dm_dr_Zamman(r,m,p)*h\n",
    "    y[1] = p + dp_dr_Zamman(r,m,p,flag)*h\n",
    "    return y\n",
    "\n",
    "# Function for determining initial value of n(r=0)\n",
    "def initial_n(): # I don't know what n is honestly...\n",
    "    n = 1\n",
    "    err = 1\n",
    "    tol = 1e-15\n",
    "    count = 0\n",
    "    # Newton-Raphson method\n",
    "    while err > tol : \n",
    "        count += 1\n",
    "        fn = n*mn + 236*n**(2.54) - rho_s\n",
    "        dfn = mn + 236*2.54*n**(1.54)\n",
    "        temp = n - fn/dfn\n",
    "        err = np.abs(n-temp)\n",
    "        n = temp\n",
    "    print(\"Newton-Raphson Converged after \", count, \"iterations\")\n",
    "    return n\n",
    "\n",
    "def mplot_Zamman(fign,x,y,xl,yl,clr,lbl):\n",
    "    py.figure(fign)\n",
    "    py.xlabel(xl)    \n",
    "    py.ylabel(yl)\n",
    "    return py.plot(x,y,clr, linewidth =2.0, label = lbl)\n",
    " "
   ]
  },
  {
   "cell_type": "code",
   "execution_count": 3,
   "metadata": {},
   "outputs": [],
   "source": [
    "# Below is for the main N-body simulation.\n",
    "plotRealTime = False # switch on for plotting as the simulation goes along\n",
    "    \n",
    "############# Star Simulation Time Iteration Constants (General)\n",
    "\n",
    "np.random.seed(42) # set the random number generator seed\n",
    "N         = 100    # Number of particles\n",
    "t_0         = 0      # current time of the simulation\n",
    "tEnd      = 12     # time at which simulation ends\n",
    "dt        = 0.04   # timestep\n",
    "# M         = 2      # star mass\n",
    "#R         = 0.75   # star radius\n",
    "h         = 0.1    # smoothing length\n",
    "k         = 0.1    # equation of state constant\n",
    "n         = 1      # polytropic index\n",
    "nu        = 1      # damping\n",
    "Nt = int(np.ceil(tEnd/dt)) # number of timesteps\n",
    "#M = 0.5 # uncomment for the other cases.\n"
   ]
  },
  {
   "cell_type": "code",
   "execution_count": 4,
   "metadata": {},
   "outputs": [],
   "source": [
    "def get_NS_mass_and_plot(label, rho_val, print_details):\n",
    "    ####################################################################################    \n",
    "    ############ Calculate the value of NS Mass: Iterate over P, rho #########\n",
    "            ## source code: https://github.com/zaman13/Modeling-of-Neutron-Stars/\n",
    "            ## Using Plank system units (hcut = c = 1).  Ref.: http://newfi.narod.ru/Newfi/Constants.htm\n",
    "\n",
    "    lbl = \"\\n------- For \" + label + \" -----\\n\"\n",
    "    print(lbl)\n",
    "    py.figure(1)\n",
    "    py.clf\n",
    "    py.figure(2)\n",
    "    py.clf\n",
    "\n",
    "    #### PREESURE AND DENSITY ITERATION OVER SPACE\n",
    "    r1 = np.linspace(0,15,N) # why 15? Oh. 15 blocks where the density will be evaluated inside the star??\n",
    "    r = r1\n",
    "    h = r[1]-r[0] # we have re-defined the smoothing length here. Not sure if this will cause problems...\n",
    "    m = np.zeros(N) # each data point has a mass. They are all 0 at the moment.\n",
    "    p = np.zeros(N) # each data point has a pressure. They are all 0 at the moment.\n",
    "    rh = np.zeros(N)\n",
    "    ni = initial_n()\n",
    "\n",
    "        # Initial values\n",
    "    r1[0] = 0\n",
    "    m[0] = 0 # \n",
    "    p[0] = 363.44 * (ni**2.54)/rho_val\n",
    "    rh[0] = 1\n",
    "    mf = 0\n",
    "    rf = 0\n",
    "\n",
    "\n",
    "\n",
    "    print(\"Initial number density, ni = \", ni)\n",
    "    print(\"Initial Pressure, P[0] = \", p[0])\n",
    "    print(\"Simulation range, R = 0 to \", r[-1]*R0*1e-18, \"km\") \n",
    "    tol = 9e-5\n",
    "\n",
    "    # Only classical model is used here\n",
    "    for k in range(0,2):\n",
    "        flag = 0\n",
    "        for i in range(0,N-1):\n",
    "            [m[i+1], p[i+1]] = EulerSolver(r[i],m[i],p[i],h,0) # Euler's Method\n",
    "            rh[i+1] = rho_Zamman(r[i])\n",
    "            if p[i+1] < tol:\n",
    "                rf = r[i]\n",
    "                mf = m[i]\n",
    "                break\n",
    "\n",
    "        if i == N-2:\n",
    "            print(\"Program didn't converge to P = 0, extend the maximum value of r\")\n",
    "        else:\n",
    "            print(\"P <\", tol, \"found after\", i, \"runs\")\n",
    "\n",
    "        m = m[0:i+2] # Update the mass of each point\n",
    "        p = p[0:i+2] # Update the pressure of each point\n",
    "        rh = rh[0:i+2]\n",
    "        r = r[0:i+2]\n",
    "        lbl = label + \" Euler's Method with h = \" + str(h)\n",
    "        if label == \"NS1\":\n",
    "            clr = \"red\"\n",
    "        else:\n",
    "            clr = \"blue\"\n",
    "\n",
    "        print(\"==============================================\")\n",
    "        print(\"Initial density, rho_val = \", rho_val, \"MeV/fm3\")\n",
    "        print(\"Total mass = \", mf*M0/Ms, \"times Solar mass\")\n",
    "        print(\"Radius of the Neutron star = \", rf*R0*1e-18, \"km\")\n",
    "\n",
    "        # PLOT\n",
    "        mplot_Zamman(1,r*R0*1e-18,p*rho_val,'Distance, $r$ (km)',r'Pressure, $P$ $(MeVfm^{-3})$',clr,lbl) # Plot r and p\n",
    "        mplot_Zamman(2,r*R0*1e-18,m*M0/Ms,'Distance, $r$ (km)',r'Mass, $M/M_{sun}$',clr,lbl) # Plot m and p\n",
    "\n",
    "        # Extracted the values from the plots.\n",
    "        Rvals = r #*R0*1e-18 # r is N x 1 matrix of points.\n",
    "        Mvals = m # *M0/Ms # M is N x 1 matrix of points.\n",
    "        Pvals = p # *rho_val # P is N x 1 matrix of points.\n",
    "\n",
    "\n",
    "    # Figure Specifics (Plot)\n",
    "    py.figure(1)\n",
    "    q = py.legend(loc = 0)\n",
    "    q.draw_frame(False)\n",
    "    py.figure(2)\n",
    "    q=py.legend(loc = 0)\n",
    "    q.draw_frame(False)\n",
    "\n",
    "    if print_details:\n",
    "        print(\"\")\n",
    "        print(\"=================================================\")\n",
    "        print(\"The constants R0 is = \", R0*1e-18, \"km (10 km unit is confusing, so it is avoided)\")\n",
    "        print(\"The constants M0 is = \", M0/Ms, \"times Solar mass\")\n",
    "        \n",
    "    return Rvals, Mvals, Pvals"
   ]
  },
  {
   "cell_type": "code",
   "execution_count": 5,
   "metadata": {},
   "outputs": [],
   "source": [
    "def make_star(label, rho_val, M, R, Mvals, Rvals, Pvals):\n",
    "    ####################################################################################\n",
    "    ############# Star Simulation Time Iteration : Generate Initial Conditions###########################################################################################\n",
    "\n",
    "    lmbda = 2*k*(1+n)*np.pi**(-3/(2*n)) * (M*gamma(5/2+n)/R**3/gamma(1+n))**(1/n) / R**2  #is external force constant, ~ 2.01\n",
    "\n",
    "    ########*########*\n",
    "    # m     = M/N                    # single particle mass, previously just a number.\n",
    "    m  = M/N # Mvals # now m is a N x 1 vector (containing the mass of each point??? )\n",
    "    ########*########*\n",
    "\n",
    "    t = t_0\n",
    "    pos = np.random.randn(N,3)   # randomly select positions and velocities from initialized seed\n",
    "    vel = np.zeros(pos.shape)    # randomly select positions and velocities \n",
    "    # positions and velocities are N x 3 matrices\n",
    "\n",
    "    acc = getAcc(pos, vel, m, h, k, n, lmbda, nu ) # calculate initial gravitational accelerations\n",
    "    # acc is also an N x 3 matrix (so new we have pos, vel, acc for x,y,z.)\n",
    "\n",
    "    ##### THIS BLOCK IS FOR STAR PLOT\n",
    "    fig = plt.figure(figsize=(4,5), dpi=80) \n",
    "    grid = plt.GridSpec(3, 1, wspace=0.0, hspace=0.3)\n",
    "    ax1 = plt.subplot(grid[0:2,0])\n",
    "    ax2 = plt.subplot(grid[2,0])\n",
    "    rr = np.zeros((100,3))\n",
    "    rlin = np.linspace(0,1,100)\n",
    "    rr[:,0] =rlin\n",
    "    rho_analytic = lmbda/(4*k) * (R**2 - rlin**2) \n",
    "        ##### END OF PLOT BLOCK\n",
    "\n",
    "    #################################################################################\n",
    "    #################################################################################\n",
    "        #################################################################################\n",
    "\n",
    "    for i in range(Nt): # Star Simulation Time Interation Main Loop\n",
    "        vel += acc * dt/2 # (1/2) kick # adds acceleration\n",
    "        pos += vel * dt # particle motion\n",
    "        acc = getAcc(pos, vel, m, h, k, n, lmbda, nu, Mvals, Rvals) # get new Nx3 matrix of accelerations based on new pos,v\n",
    "        vel += acc * dt/2 # (1/2) kick # not sure why we add accelleration again.\n",
    "        t += dt # update time\n",
    "        rho = getDensity(pos, pos, m, h) # get updated density for each point based on m, h. \n",
    "\n",
    "        #################################################################################\n",
    "    #################################################################################\n",
    "    #################################################################################\n",
    "\n",
    "        if plotRealTime or (i == Nt-1):\n",
    "            plt.sca(ax1)\n",
    "            plt.cla()\n",
    "            cval = np.minimum((rho-3)/3,1).flatten()\n",
    "            plt.scatter(pos[:,0],pos[:,1], c=cval, cmap=plt.cm.autumn, s=10, alpha=0.5)\n",
    "            ax1.set(xlim=(-1.4, 1.4), ylim=(-1.2, 1.2))\n",
    "            ax1.set_aspect('equal', 'box')\n",
    "            ax1.set_xticks([-1,0,1])\n",
    "            ax1.set_yticks([-1,0,1])\n",
    "            ax1.set_facecolor('black')\n",
    "            ax1.set_facecolor((.1,.1,.1))\n",
    "\n",
    "            plt.sca(ax2)\n",
    "            plt.cla()\n",
    "            ax2.set(xlim=(0, 1), ylim=(0, 3))\n",
    "            ax2.set_aspect(0.1)\n",
    "            plt.plot(rlin, rho_analytic, color='gray', linewidth=2)\n",
    "            rho_radial = getDensity( rr, pos, m, h )\n",
    "            plt.plot(rlin, rho_radial, color='blue')\n",
    "            plt.pause(0.001)\n",
    "\n",
    "    # add labels/legend\n",
    "    #plt.sca(ax2)\n",
    "    plt.xlabel('Radius')\n",
    "    plt.ylabel('Density')\n",
    "    plt.title(label)\n",
    "    # Save figure\n",
    "    lbl = label + '_simple_neutron_sph.png'\n",
    "    plt.savefig(lbl,dpi=240)\n",
    "    plt.show()\n",
    "    \n",
    "    return True"
   ]
  },
  {
   "cell_type": "code",
   "execution_count": 6,
   "metadata": {},
   "outputs": [],
   "source": [
    "## Second star\n",
    "M2 = 10e60\n",
    "R2 = 0.8\n",
    "rho_s_2 = 1000\n",
    "\n",
    "M_1_val = 1\n",
    "M_2_val = 0.5\n",
    "R_1_val = 0.7\n",
    "R_2_val = 0.75"
   ]
  },
  {
   "cell_type": "code",
   "execution_count": 7,
   "metadata": {},
   "outputs": [
    {
     "name": "stdout",
     "output_type": "stream",
     "text": [
      "\n",
      "------- For NS1 -----\n",
      "\n",
      "Newton-Raphson Converged after  5 iterations\n",
      "Initial number density, ni =  1.2918969375342138\n",
      "Initial Pressure, P[0] =  0.4182722266764404\n",
      "Simulation range, R = 0 to  90.36486611870906 km\n",
      "P < 9e-05 found after 17 runs\n",
      "==============================================\n",
      "Initial density, rho_val =  1665.3 MeV/fm3\n",
      "Total mass =  10.956908354777141 times Solar mass\n",
      "Radius of the Neutron star =  15.517199232505595 km\n",
      "P < 9e-05 found after 17 runs\n",
      "==============================================\n",
      "Initial density, rho_val =  1665.3 MeV/fm3\n",
      "Total mass =  10.956908354777141 times Solar mass\n",
      "Radius of the Neutron star =  15.517199232505595 km\n",
      "\n",
      "------- For NS2 -----\n",
      "\n",
      "Newton-Raphson Converged after  5 iterations\n",
      "Initial number density, ni =  1.2918969375342138\n",
      "Initial Pressure, P[0] =  0.6965487390842762\n",
      "Simulation range, R = 0 to  90.36486611870906 km\n",
      "P < 9e-05 found after 17 runs\n",
      "==============================================\n",
      "Initial density, rho_val =  1000 MeV/fm3\n",
      "Total mass =  13.714727335942142 times Solar mass\n",
      "Radius of the Neutron star =  15.517199232505595 km\n",
      "P < 9e-05 found after 17 runs\n",
      "==============================================\n",
      "Initial density, rho_val =  1000 MeV/fm3\n",
      "Total mass =  13.714727335942142 times Solar mass\n",
      "Radius of the Neutron star =  15.517199232505595 km\n"
     ]
    },
    {
     "data": {
      "image/png": "[encoded data removed]",
      "text/plain": [
       "<Figure size 432x288 with 1 Axes>"
      ]
     },
     "metadata": {
      "needs_background": "light"
     },
     "output_type": "display_data"
    },
    {
     "data": {
      "image/png": "[encoded data removed]",
      "text/plain": [
       "<Figure size 432x288 with 1 Axes>"
      ]
     },
     "metadata": {
      "needs_background": "light"
     },
     "output_type": "display_data"
    }
   ],
   "source": [
    "print_det = False\n",
    "label1 = \"NS1\"\n",
    "label2 = \"NS2\"\n",
    "M1_val, R1_val, P1_val = get_NS_mass_and_plot(label1, rho_s, print_det)\n",
    "M2_val, R2_val, P2_val = get_NS_mass_and_plot(label2, rho_s_2, print_det)"
   ]
  },
  {
   "cell_type": "code",
   "execution_count": 8,
   "metadata": {
    "scrolled": true
   },
   "outputs": [
    {
     "data": {
      "image/png": "[encoded data removed]",
      "text/plain": [
       "<Figure size 320x400 with 2 Axes>"
      ]
     },
     "metadata": {
      "needs_background": "light"
     },
     "output_type": "display_data"
    },
    {
     "data": {
      "image/png": "[encoded data removed]",
      "text/plain": [
       "<Figure size 432x288 with 1 Axes>"
      ]
     },
     "metadata": {
      "needs_background": "light"
     },
     "output_type": "display_data"
    },
    {
     "data": {
      "text/plain": [
       "True"
      ]
     },
     "execution_count": 8,
     "metadata": {},
     "output_type": "execute_result"
    }
   ],
   "source": [
    "make_star(label1, rho_s, M_1_val, R_1_val, M1_val, R1_val, P1_val)"
   ]
  },
  {
   "cell_type": "code",
   "execution_count": 9,
   "metadata": {},
   "outputs": [
    {
     "data": {
      "image/png": "[encoded data removed]",
      "text/plain": [
       "<Figure size 320x400 with 2 Axes>"
      ]
     },
     "metadata": {
      "needs_background": "light"
     },
     "output_type": "display_data"
    },
    {
     "data": {
      "image/png": "[encoded data removed]",
      "text/plain": [
       "<Figure size 432x288 with 1 Axes>"
      ]
     },
     "metadata": {
      "needs_background": "light"
     },
     "output_type": "display_data"
    },
    {
     "data": {
      "text/plain": [
       "True"
      ]
     },
     "execution_count": 9,
     "metadata": {},
     "output_type": "execute_result"
    }
   ],
   "source": [
    "make_star(label2, rho_s_2, M_2_val, R_2_val, M2_val, R2_val, P2_val)"
   ]
  }
 ],
 "metadata": {
  "kernelspec": {
   "display_name": "Python 3",
   "language": "python",
   "name": "python3"
  },
  "language_info": {
   "codemirror_mode": {
    "name": "ipython",
    "version": 3
   },
   "file_extension": ".py",
   "mimetype": "text/x-python",
   "name": "python",
   "nbconvert_exporter": "python",
   "pygments_lexer": "ipython3",
   "version": "3.8.3"
  }
 },
 "nbformat": 4,
 "nbformat_minor": 5
}
