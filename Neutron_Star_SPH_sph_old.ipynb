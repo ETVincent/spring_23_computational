{
 "cells": [
  {
   "cell_type": "markdown",
   "id": "55451471",
   "metadata": {},
   "source": [
    "# SPH Implementation\n",
    "### The Gaussian Smoothing function is used to smooth out the point values, extrapolating them to other positions.\n",
    " Given the distribution of particles, we can reconstruct the density at any location using the smoothing kernels. For example, the density at each SPH particle location is a sum over all the particles with weighting set by the distances between particles and the smoothing kernel:"
   ]
  },
  {
   "cell_type": "code",
   "execution_count": null,
   "id": "300306e1",
   "metadata": {},
   "outputs": [],
   "source": [
    "import numpy as np\n",
    "import matplotlib.pyplot as plt\n",
    "from scipy.special import gamma\n",
    "import time\n",
    "import math\n",
    "import matplotlib as mp\n",
    "import scipy as sp\n",
    "import pylab as py"
   ]
  },
  {
   "cell_type": "code",
   "execution_count": null,
   "id": "aa6fd363",
   "metadata": {},
   "outputs": [],
   "source": [
    "def W(x,y,z,h):\n",
    "    \"\"\" Defined Gausssian Smoothing kernel (3D).\n",
    "    (x is a vector/matrix of x positions, y is a vector/matrix of y positions. \n",
    "    z = vector/matrix of z positions, h = smoothing length, w = evaluated smoothing function.\"\"\"\n",
    "    r = np.sqrt(x**2 + y**2 + z**2) \n",
    "    return (1.0 / (h*np.sqrt(np.pi)))**3 * np.exp( -r**2 / h**2) # return w\n",
    "    \n",
    "def gradW(x,y,z,h):\n",
    "    \"\"\" Gradient of smoothing kernel. We can reconstruct the density at any location using the smoothing kernels.\n",
    "    (x is a vector/matrix of x positions, y is a vector/matrix of y positions, z is a vector/matrix of z positions, h is the smoothing length, wx, wy, wz  is the evaluated gradient)\"\"\"\n",
    "    r = np.sqrt(x**2 + y**2 + z**2)  \n",
    "    n = -2 * np.exp( -r**2 / h**2) / h**5 / (np.pi)**(3/2)\n",
    "    return n*x, n*y, n*z  # (gradient in the x, y, and z directions)\n",
    "    \n",
    "def getPairwiseSeparations(ri, rj):\n",
    "    \"\"\" Just finds Cartesian Pairwise Separations between 2 points. \n",
    "    ri is an M x 3 matrix of positions, \n",
    "    rj    is an N x 3 matrix of positions \n",
    "    dx, dy, dz   are M x N matrices of separations. \"\"\"\n",
    "    M = ri.shape[0]\n",
    "    N = rj.shape[0]\n",
    "    rix = ri[:,0].reshape((M,1)) # positions ri = (x,y,z)\n",
    "    riy = ri[:,1].reshape((M,1))\n",
    "    riz = ri[:,2].reshape((M,1))\n",
    "    rjx = rj[:,0].reshape((N,1)) # other set of points positions rj = (x,y,z)\n",
    "    rjy = rj[:,1].reshape((N,1))\n",
    "    rjz = rj[:,2].reshape((N,1))\n",
    "    return rix - rjx.T , riy - rjy.T, riz - rjz.T # (dx, dy, dz) # return matrices that store all pairwise particle separations: r_i - r_j\n",
    "\n",
    "def getDensity(r, pos, m, h ):\n",
    "    \"\"\" Reconstruct the density at any location based on the sph points.\n",
    "            r     is an M x 3 matrix of sampling locations\n",
    "            pos   is an N x 3 matrix of SPH particle positions\n",
    "          \n",
    "          dx, dy, dz are all M x N matrices. (Seperations). \n",
    "          - Sum over all particle interactions with the points to get the density at the locations in r.\n",
    "          \n",
    "          m = particle mass, h = smoothing length \"\"\"\n",
    "    \n",
    "    M = r.shape[0]\n",
    "    dx, dy, dz = getPairwiseSeparations( r, pos );\n",
    "    rho = np.sum( m * W(dx, dy, dz, h), 1 ).reshape((M,1))\n",
    "    return rho"
   ]
  }
 ],
 "metadata": {
  "kernelspec": {
   "display_name": "Python 3 (ipykernel)",
   "language": "python",
   "name": "python3"
  },
  "language_info": {
   "codemirror_mode": {
    "name": "ipython",
    "version": 3
   },
   "file_extension": ".py",
   "mimetype": "text/x-python",
   "name": "python",
   "nbconvert_exporter": "python",
   "pygments_lexer": "ipython3",
   "version": "3.9.12"
  }
 },
 "nbformat": 4,
 "nbformat_minor": 5
}
